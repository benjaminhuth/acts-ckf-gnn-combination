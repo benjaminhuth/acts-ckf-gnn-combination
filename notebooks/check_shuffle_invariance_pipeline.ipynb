{
 "cells": [
  {
   "cell_type": "code",
   "execution_count": 1,
   "id": "39ebac19-4b0d-40b4-878e-c237401298d9",
   "metadata": {},
   "outputs": [],
   "source": [
    "import os\n",
    "os.environ[\"CUDA_VISIBLE_DEVICES\"] = \"\""
   ]
  },
  {
   "cell_type": "code",
   "execution_count": 2,
   "id": "e7bbbd85-1a00-4825-8ece-8662029a8c45",
   "metadata": {},
   "outputs": [],
   "source": [
    "import acts\n",
    "import acts.examples\n",
    "from pathlib import Path\n",
    "\n",
    "import numpy as np"
   ]
  },
  {
   "cell_type": "code",
   "execution_count": 3,
   "id": "a7348aa5-9663-4d6b-8d5e-b44e3bddfacc",
   "metadata": {},
   "outputs": [],
   "source": [
    "#modelDir = Path.home() / \"acts/Examples/Scripts/Python/torchscript_models\"\n",
    "modelDir = Path.home() / \"combine-gnn-ckf/torchscript/no_threshold\"\n",
    "assert modelDir.exists()"
   ]
  },
  {
   "cell_type": "code",
   "execution_count": 4,
   "id": "e9f12743-847c-452a-ad59-83c96e391a17",
   "metadata": {},
   "outputs": [],
   "source": [
    "metricLearningConfig = {\n",
    "    \"level\": acts.logging.VERBOSE,\n",
    "    \"modelPath\": str(modelDir / \"embedding.pt\"),\n",
    "    \"numFeatures\": 7,\n",
    "    \"embeddingDim\": 8,\n",
    "    \"rVal\": 1.0,\n",
    "    \"knnVal\": 300,\n",
    "}\n",
    "\n",
    "filterConfig = {\n",
    "    \"level\": acts.logging.VERBOSE,\n",
    "    \"modelPath\": str(modelDir / \"filter.pt\"),\n",
    "    \"numFeatures\": 3,\n",
    "    \"cut\": 0.5,\n",
    "    \"nChunks\": 0,\n",
    "    \"undirected\": False,\n",
    "}\n",
    "\n",
    "gnnConfig = {\n",
    "    \"level\": acts.logging.VERBOSE,\n",
    "    \"modelPath\": str(modelDir / \"gnn.pt\"),\n",
    "    \"numFeatures\": 3,\n",
    "    \"cut\": 0.1,\n",
    "    \"nChunks\": 0,\n",
    "    \"undirected\": True,\n",
    "}"
   ]
  },
  {
   "cell_type": "code",
   "execution_count": 5,
   "id": "28f74838-eb27-47da-a945-628d7b7e2509",
   "metadata": {},
   "outputs": [
    {
     "name": "stdout",
     "output_type": "stream",
     "text": [
      "14:47:33    MetricLearni   DEBUG     Using torch version 1.13.1\n",
      "14:47:33    MetricLearni   INFO      CUDA not available, falling back to CPU\n",
      "14:47:33    EdgeClassifi   DEBUG     Using torch version 1.13.1\n",
      "14:47:33    EdgeClassifi   INFO      CUDA not available, falling back to CPU\n",
      "14:47:33    EdgeClassifi   DEBUG     Using torch version 1.13.1\n",
      "14:47:33    EdgeClassifi   INFO      CUDA not available, falling back to CPU\n"
     ]
    }
   ],
   "source": [
    "graphConstructor = acts.examples.TorchMetricLearning(**metricLearningConfig)\n",
    "edgeClassifiers = [\n",
    "    acts.examples.TorchEdgeClassifier(**filterConfig),\n",
    "    acts.examples.TorchEdgeClassifier(**gnnConfig),\n",
    "]\n",
    "trackBuilder = acts.examples.BoostTrackBuilding(acts.logging.INFO)\n",
    "\n",
    "pipeline = acts.examples.Pipeline(graphConstructor, edgeClassifiers, trackBuilder, acts.logging.INFO)"
   ]
  },
  {
   "cell_type": "code",
   "execution_count": 6,
   "id": "94e5fdd0-0bda-48fb-9ef9-f1ad3c474f3c",
   "metadata": {},
   "outputs": [],
   "source": [
    "features = np.random.uniform(-1., 1., (100,7))\n",
    "spacepointIDs = np.arange(100)"
   ]
  },
  {
   "cell_type": "code",
   "execution_count": 7,
   "id": "2299a74c-bc37-4cac-9dfe-078c3647b7d2",
   "metadata": {},
   "outputs": [
    {
     "name": "stdout",
     "output_type": "stream",
     "text": [
      "14:47:33    MetricLearni   DEBUG     Start graph construction\n",
      "14:47:33    MetricLearni   VERBOSE   First spacepoint information: -0.439168  0.779654  -0.228647  0.261614  0.735841  -0.906471  0.985979  \n",
      "14:47:33    MetricLearni   VERBOSE   No memory info, CUDA disabled\n",
      "14:47:33    MetricLearni   DEBUG     embedding input tensor shape 100, 7\n",
      "14:47:33    MetricLearni   VERBOSE   Embedding space of the first SP:\n",
      "-0.2313 -0.3650 -0.0272  0.3396  0.3905  0.5399  0.4768 -0.1607\n",
      "[ CPUFloatType{1,8} ]\n",
      "14:47:33    MetricLearni   VERBOSE   No memory info, CUDA disabled\n",
      "14:47:34    MetricLearni   VERBOSE   Shape of built edges: (2, 1891\n",
      "14:47:34    MetricLearni   VERBOSE   Slice of edgelist:\n",
      "  0   0   0   0   0\n",
      "  2  24  25  27  34\n",
      "[ CPULongType{2,5} ]\n",
      "14:47:34    MetricLearni   VERBOSE   No memory info, CUDA disabled\n",
      "14:47:34    EdgeClassifi   DEBUG     Start edge classification\n",
      "14:47:34    EdgeClassifi   VERBOSE   Size after classifier: 1891\n",
      "14:47:34    EdgeClassifi   VERBOSE   Slice of classified output:\n",
      "14:47:34    EdgeClassifi   VERBOSE   0, 85 -> 4.0536e-05\n",
      "14:47:34    EdgeClassifi   VERBOSE   5, 21 -> 5.35185e-05\n",
      "14:47:34    EdgeClassifi   VERBOSE   15, 31 -> 0.0808085\n",
      "14:47:34    EdgeClassifi   VERBOSE   24, 63 -> 0.996779\n",
      "14:47:34    EdgeClassifi   VERBOSE   7, 12 -> 0.998451\n",
      "14:47:34    EdgeClassifi   VERBOSE   No memory info, CUDA disabled\n",
      "14:47:34    EdgeClassifi   VERBOSE   Size after score cut: 355\n",
      "14:47:34    EdgeClassifi   VERBOSE   No memory info, CUDA disabled\n",
      "14:47:34    EdgeClassifi   DEBUG     Start edge classification\n",
      "14:47:36    EdgeClassifi   VERBOSE   Size after classifier: 355\n",
      "14:47:36    EdgeClassifi   VERBOSE   Slice of classified output:\n",
      "14:47:36    EdgeClassifi   VERBOSE   34, 51 -> 3.27441e-05\n",
      "14:47:36    EdgeClassifi   VERBOSE   77, 97 -> 4.1783e-05\n",
      "14:47:36    EdgeClassifi   VERBOSE   17, 63 -> 0.0033649\n",
      "14:47:36    EdgeClassifi   VERBOSE   17, 26 -> 0.540588\n",
      "14:47:36    EdgeClassifi   VERBOSE   50, 51 -> 0.655157\n",
      "14:47:36    EdgeClassifi   VERBOSE   No memory info, CUDA disabled\n",
      "14:47:36    EdgeClassifi   VERBOSE   Size after score cut: 39\n",
      "14:47:36    EdgeClassifi   VERBOSE   No memory info, CUDA disabled\n"
     ]
    }
   ],
   "source": [
    "tracks = pipeline.run(list(features.flatten()), list(spacepointIDs))\n",
    "track_lengths = sorted([ len(t) for t in tracks ])"
   ]
  },
  {
   "cell_type": "code",
   "execution_count": 8,
   "id": "67143321-c419-4760-b329-4df35d314c6a",
   "metadata": {},
   "outputs": [
    {
     "data": {
      "text/plain": [
       "array([ 1,  1,  1,  1,  1,  1,  1,  1,  1,  1,  1,  1,  1,  1,  1,  1,  1,\n",
       "        1,  1,  1,  1,  1,  1,  1,  1,  1,  1,  1,  1,  1,  1,  1,  1,  1,\n",
       "        1,  1,  1,  1,  1,  1,  1,  1,  1,  1,  1,  1,  1,  1,  1,  1,  1,\n",
       "        1,  1,  1,  1,  1,  1,  1,  1,  1,  1,  1,  2,  2,  2,  2,  2,  4,\n",
       "        9, 15])"
      ]
     },
     "execution_count": 8,
     "metadata": {},
     "output_type": "execute_result"
    }
   ],
   "source": [
    "np.array(track_lengths)"
   ]
  },
  {
   "cell_type": "code",
   "execution_count": 9,
   "id": "bc6a55d3-9e65-4770-bf4c-42216a902689",
   "metadata": {},
   "outputs": [],
   "source": [
    "#idxs = np.arange(100)\n",
    "#np.random.shuffle(idxs)\n",
    "#idxs\n",
    "#features_shuffled = features[idxs]\n",
    "#spacepointIDs_shuff = spacepointIDs[idxs]"
   ]
  },
  {
   "cell_type": "code",
   "execution_count": 12,
   "id": "a850fc11-932f-4de7-ab28-9f0f7f61d345",
   "metadata": {},
   "outputs": [],
   "source": [
    "features_shuffled = np.roll(features, 1, axis=0)\n",
    "spacepointIDs_shuff = np.roll(spacepointIDs, 1, axis=0)"
   ]
  },
  {
   "cell_type": "code",
   "execution_count": 13,
   "id": "db7867eb-562e-4301-b4a4-ffbbcadc60b5",
   "metadata": {},
   "outputs": [
    {
     "name": "stdout",
     "output_type": "stream",
     "text": [
      "14:47:49    MetricLearni   DEBUG     Start graph construction\n",
      "14:47:49    MetricLearni   VERBOSE   First spacepoint information: -0.609304  -0.5005  0.718772  0.700514  -0.906497  0.0109918  -0.0699543  \n",
      "14:47:49    MetricLearni   VERBOSE   No memory info, CUDA disabled\n",
      "14:47:49    MetricLearni   DEBUG     embedding input tensor shape 100, 7\n",
      "14:47:49    MetricLearni   VERBOSE   Embedding space of the first SP:\n",
      " 0.1105  0.3338  0.4622  0.1449 -0.2512  0.6553 -0.3062 -0.2355\n",
      "[ CPUFloatType{1,8} ]\n",
      "14:47:49    MetricLearni   VERBOSE   No memory info, CUDA disabled\n",
      "14:47:49    MetricLearni   VERBOSE   Shape of built edges: (2, 1891\n",
      "14:47:49    MetricLearni   VERBOSE   Slice of edgelist:\n",
      "  0   0   0   0   0\n",
      "  5   6   7   8  10\n",
      "[ CPULongType{2,5} ]\n",
      "14:47:49    MetricLearni   VERBOSE   No memory info, CUDA disabled\n",
      "14:47:49    EdgeClassifi   DEBUG     Start edge classification\n",
      "14:47:50    EdgeClassifi   VERBOSE   Size after classifier: 1891\n",
      "14:47:50    EdgeClassifi   VERBOSE   Slice of classified output:\n",
      "14:47:50    EdgeClassifi   VERBOSE   1, 86 -> 2.3597e-05\n",
      "14:47:50    EdgeClassifi   VERBOSE   6, 22 -> 2.76072e-05\n",
      "14:47:50    EdgeClassifi   VERBOSE   35, 54 -> 0.0821569\n",
      "14:47:50    EdgeClassifi   VERBOSE   66, 98 -> 0.996479\n",
      "14:47:50    EdgeClassifi   VERBOSE   8, 13 -> 0.998454\n",
      "14:47:50    EdgeClassifi   VERBOSE   No memory info, CUDA disabled\n",
      "14:47:50    EdgeClassifi   VERBOSE   Size after score cut: 356\n",
      "14:47:50    EdgeClassifi   VERBOSE   No memory info, CUDA disabled\n",
      "14:47:50    EdgeClassifi   DEBUG     Start edge classification\n",
      "14:47:54    EdgeClassifi   VERBOSE   Size after classifier: 356\n",
      "14:47:54    EdgeClassifi   VERBOSE   Slice of classified output:\n",
      "14:47:54    EdgeClassifi   VERBOSE   35, 52 -> 3.90256e-05\n",
      "14:47:54    EdgeClassifi   VERBOSE   78, 91 -> 4.11687e-05\n",
      "14:47:54    EdgeClassifi   VERBOSE   36, 50 -> 0.00354194\n",
      "14:47:54    EdgeClassifi   VERBOSE   51, 52 -> 0.773506\n",
      "14:47:54    EdgeClassifi   VERBOSE   27, 83 -> 0.783429\n",
      "14:47:54    EdgeClassifi   VERBOSE   No memory info, CUDA disabled\n",
      "14:47:54    EdgeClassifi   VERBOSE   Size after score cut: 35\n",
      "14:47:54    EdgeClassifi   VERBOSE   No memory info, CUDA disabled\n"
     ]
    }
   ],
   "source": [
    "tracks_shuf = pipeline.run(list(features_shuffled.flatten()), list(spacepointIDs_shuff))\n",
    "track_lengths_shuf = sorted([ len(t) for t in tracks_shuf ])"
   ]
  },
  {
   "cell_type": "code",
   "execution_count": 14,
   "id": "f4a27432-b462-4975-a8c1-999fc50a381f",
   "metadata": {},
   "outputs": [
    {
     "data": {
      "text/plain": [
       "array([ 1,  1,  1,  1,  1,  1,  1,  1,  1,  1,  1,  1,  1,  1,  1,  1,  1,\n",
       "        1,  1,  1,  1,  1,  1,  1,  1,  1,  1,  1,  1,  1,  1,  1,  1,  1,\n",
       "        1,  1,  1,  1,  1,  1,  1,  1,  1,  1,  1,  1,  1,  1,  1,  1,  1,\n",
       "        1,  1,  1,  1,  1,  1,  1,  1,  1,  1,  1,  1,  2,  2,  2,  2,  4,\n",
       "       10, 15])"
      ]
     },
     "execution_count": 14,
     "metadata": {},
     "output_type": "execute_result"
    }
   ],
   "source": [
    "np.array(track_lengths_shuf)"
   ]
  },
  {
   "cell_type": "code",
   "execution_count": 15,
   "id": "49bf4759-4118-4d2a-bba4-37f8a04ca9b4",
   "metadata": {},
   "outputs": [
    {
     "data": {
      "text/plain": [
       "False"
      ]
     },
     "execution_count": 15,
     "metadata": {},
     "output_type": "execute_result"
    }
   ],
   "source": [
    "track_lengths_shuf == track_lengths"
   ]
  },
  {
   "cell_type": "code",
   "execution_count": 16,
   "id": "7766d27c-de5b-4d28-bb08-e0aeba86c996",
   "metadata": {},
   "outputs": [
    {
     "ename": "NameError",
     "evalue": "name 'idxs' is not defined",
     "output_type": "error",
     "traceback": [
      "\u001b[0;31m---------------------------------------------------------------------------\u001b[0m",
      "\u001b[0;31mNameError\u001b[0m                                 Traceback (most recent call last)",
      "Cell \u001b[0;32mIn[16], line 1\u001b[0m\n\u001b[0;32m----> 1\u001b[0m \u001b[43midxs\u001b[49m[[\u001b[38;5;241m58\u001b[39m,\u001b[38;5;241m93\u001b[39m]]\n",
      "\u001b[0;31mNameError\u001b[0m: name 'idxs' is not defined"
     ]
    }
   ],
   "source": [
    "idxs[[58,93]]"
   ]
  },
  {
   "cell_type": "code",
   "execution_count": null,
   "id": "de2224e4-b54e-49a4-8ed2-988782942f0b",
   "metadata": {},
   "outputs": [],
   "source": [
    "idxs[[46,96]]"
   ]
  },
  {
   "cell_type": "code",
   "execution_count": null,
   "id": "8ef67abd-6490-44df-92b4-f1cdfa8a1c09",
   "metadata": {},
   "outputs": [],
   "source": []
  }
 ],
 "metadata": {
  "kernelspec": {
   "display_name": "Python 3 (ipykernel)",
   "language": "python",
   "name": "python3"
  },
  "language_info": {
   "codemirror_mode": {
    "name": "ipython",
    "version": 3
   },
   "file_extension": ".py",
   "mimetype": "text/x-python",
   "name": "python",
   "nbconvert_exporter": "python",
   "pygments_lexer": "ipython3",
   "version": "3.10.12"
  }
 },
 "nbformat": 4,
 "nbformat_minor": 5
}
