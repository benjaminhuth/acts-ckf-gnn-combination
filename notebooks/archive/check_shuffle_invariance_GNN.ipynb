{
 "cells": [
  {
   "cell_type": "code",
   "execution_count": 35,
   "id": "86d4920d-6a74-4ff3-9e17-ca3bb45f65d7",
   "metadata": {},
   "outputs": [],
   "source": [
    "import torch\n",
    "import torch_scatter\n",
    "import numpy as np"
   ]
  },
  {
   "cell_type": "code",
   "execution_count": 48,
   "id": "d0a658d6-86fe-40f0-adc1-0a55e1902b0f",
   "metadata": {},
   "outputs": [],
   "source": [
    "#model = torch.jit.load(\"../torchscript/no_threshold/gnn.pt\")\n",
    "model = torch.jit.load(\"../torchscript/no_threshold/filter.pt\")"
   ]
  },
  {
   "cell_type": "code",
   "execution_count": 49,
   "id": "50b2af77-a3ca-428e-ab69-91d238da94ce",
   "metadata": {},
   "outputs": [
    {
     "data": {
      "text/plain": [
       "tensor([[0.4582, 0.5648, 0.9673],\n",
       "        [0.4079, 0.8371, 0.3463],\n",
       "        [0.3507, 0.1877, 0.1141],\n",
       "        [0.3838, 0.4848, 0.7349],\n",
       "        [0.3014, 0.0262, 0.4024],\n",
       "        [0.3447, 0.6215, 0.9172],\n",
       "        [0.8655, 0.1902, 0.6670],\n",
       "        [0.9797, 0.7645, 0.4028],\n",
       "        [0.0526, 0.1606, 0.6931],\n",
       "        [0.0565, 0.8868, 0.8640],\n",
       "        [0.8592, 0.4237, 0.7373],\n",
       "        [0.1800, 0.1984, 0.8857],\n",
       "        [0.5016, 0.8452, 0.3239],\n",
       "        [0.8475, 0.7163, 0.0047],\n",
       "        [0.2893, 0.5242, 0.8736],\n",
       "        [0.7658, 0.4856, 0.7386],\n",
       "        [0.6968, 0.4936, 0.3177],\n",
       "        [0.4470, 0.2911, 0.7224],\n",
       "        [0.1121, 0.3758, 0.5710],\n",
       "        [0.2928, 0.6747, 0.9905]])"
      ]
     },
     "execution_count": 49,
     "metadata": {},
     "output_type": "execute_result"
    }
   ],
   "source": [
    "x = torch.rand((20,3))\n",
    "x"
   ]
  },
  {
   "cell_type": "code",
   "execution_count": 50,
   "id": "92f2a454-ab88-4b3f-ae6f-671ed6111287",
   "metadata": {},
   "outputs": [
    {
     "data": {
      "text/plain": [
       "tensor([[ 6, 11, 16, 16,  9, 19, 11, 13, 15,  1],\n",
       "        [ 9, 12,  9, 14,  0, 18,  3, 11, 18, 12]])"
      ]
     },
     "execution_count": 50,
     "metadata": {},
     "output_type": "execute_result"
    }
   ],
   "source": [
    "edge_index = torch.randint(0,20,(2,10))\n",
    "edge_index"
   ]
  },
  {
   "cell_type": "code",
   "execution_count": 51,
   "id": "4917b2c4-62b4-44c8-8cfb-91b974804cf7",
   "metadata": {},
   "outputs": [
    {
     "data": {
      "text/plain": [
       "tensor([[0.8655, 0.1902, 0.6670],\n",
       "        [0.0565, 0.8868, 0.8640]])"
      ]
     },
     "execution_count": 51,
     "metadata": {},
     "output_type": "execute_result"
    }
   ],
   "source": [
    "x[edge_index[:,0]]"
   ]
  },
  {
   "cell_type": "code",
   "execution_count": 52,
   "id": "52082120-351b-461b-b480-6c83666e628a",
   "metadata": {},
   "outputs": [
    {
     "data": {
      "text/plain": [
       "array([0.0017111 , 0.00488361, 0.0056776 , 0.01512597, 0.02566504,\n",
       "       0.08410568, 0.10118195, 0.3528163 , 0.89250934, 0.98971635],\n",
       "      dtype=float32)"
      ]
     },
     "execution_count": 52,
     "metadata": {},
     "output_type": "execute_result"
    }
   ],
   "source": [
    "out = model(x, edge_index).sigmoid()\n",
    "np.sort(out.detach())"
   ]
  },
  {
   "cell_type": "code",
   "execution_count": 53,
   "id": "43f8daf6-00c1-4aaa-b254-e127b455dde1",
   "metadata": {},
   "outputs": [],
   "source": [
    "xroll = torch.roll(x,1,dims=0)"
   ]
  },
  {
   "cell_type": "code",
   "execution_count": 54,
   "id": "2e7a5584-1355-42f1-a6a7-f0c0ad7e7414",
   "metadata": {},
   "outputs": [
    {
     "data": {
      "text/plain": [
       "tensor([[ 7, 12, 17, 17, 10,  0, 12, 14, 16,  2],\n",
       "        [10, 13, 10, 15,  1, 19,  4, 12, 19, 13]])"
      ]
     },
     "execution_count": 54,
     "metadata": {},
     "output_type": "execute_result"
    }
   ],
   "source": [
    "edge_index_roll = (edge_index + 1) % 20\n",
    "edge_index_roll"
   ]
  },
  {
   "cell_type": "code",
   "execution_count": 55,
   "id": "639e240e-456a-4bb5-b707-39df164e111d",
   "metadata": {},
   "outputs": [
    {
     "data": {
      "text/plain": [
       "tensor([[0.8655, 0.1902, 0.6670],\n",
       "        [0.0565, 0.8868, 0.8640]])"
      ]
     },
     "execution_count": 55,
     "metadata": {},
     "output_type": "execute_result"
    }
   ],
   "source": [
    "xroll[edge_index_roll[:,0]]"
   ]
  },
  {
   "cell_type": "code",
   "execution_count": 56,
   "id": "694f0f2a-a090-4e81-823a-64719c6131b9",
   "metadata": {},
   "outputs": [
    {
     "data": {
      "text/plain": [
       "array([0.0017111 , 0.00488361, 0.0056776 , 0.01512597, 0.02566504,\n",
       "       0.08410568, 0.10118195, 0.3528163 , 0.89250934, 0.98971635],\n",
       "      dtype=float32)"
      ]
     },
     "execution_count": 56,
     "metadata": {},
     "output_type": "execute_result"
    }
   ],
   "source": [
    "out = model(xroll, edge_index_roll).sigmoid()\n",
    "np.sort(out.detach())"
   ]
  },
  {
   "cell_type": "code",
   "execution_count": null,
   "id": "be3b23a0-2679-4c5b-adcb-4e4816826309",
   "metadata": {},
   "outputs": [],
   "source": []
  },
  {
   "cell_type": "code",
   "execution_count": null,
   "id": "97d2b80f-3420-40bc-97df-a31feff43ee4",
   "metadata": {},
   "outputs": [],
   "source": []
  }
 ],
 "metadata": {
  "kernelspec": {
   "display_name": "Python 3 (ipykernel)",
   "language": "python",
   "name": "python3"
  },
  "language_info": {
   "codemirror_mode": {
    "name": "ipython",
    "version": 3
   },
   "file_extension": ".py",
   "mimetype": "text/x-python",
   "name": "python",
   "nbconvert_exporter": "python",
   "pygments_lexer": "ipython3",
   "version": "3.10.12"
  }
 },
 "nbformat": 4,
 "nbformat_minor": 5
}
