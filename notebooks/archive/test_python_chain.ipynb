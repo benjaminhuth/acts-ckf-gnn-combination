{
 "cells": [
  {
   "cell_type": "code",
   "execution_count": 18,
   "id": "bfe6a7e0-377e-43d7-95a8-13761246971b",
   "metadata": {},
   "outputs": [],
   "source": [
    "import sys\n",
    "import yaml\n",
    "import tempfile\n",
    "import os\n",
    "import subprocess\n",
    "from pathlib import Path\n",
    "sys.path.append(\"/home/iwsatlas1/bhuth/exatrkx/gnn4itk/commonframework\")"
   ]
  },
  {
   "cell_type": "code",
   "execution_count": 19,
   "id": "c2095b56-4171-4049-b0aa-12a91ef82f48",
   "metadata": {},
   "outputs": [],
   "source": [
    "import torch\n",
    "import torch_geometric\n",
    "import numpy as np\n",
    "import pandas as pd\n",
    "import matplotlib.pyplot as plt\n",
    "import scipy.sparse as sps"
   ]
  },
  {
   "cell_type": "code",
   "execution_count": 20,
   "id": "6f31b7ec-fa86-4688-972e-4a1e363889e2",
   "metadata": {},
   "outputs": [],
   "source": [
    "from gnn4itk_cf.stages.data_reading import ActsReader\n",
    "from gnn4itk_cf.stages.graph_construction.models.utils import build_edges"
   ]
  },
  {
   "cell_type": "code",
   "execution_count": 21,
   "id": "f1d748cb-acd2-4076-a5e5-2c85aaacc1b6",
   "metadata": {},
   "outputs": [],
   "source": [
    "def cantor_pairing(a):\n",
    "    a = np.sort(a, axis=0)\n",
    "    return a[1] + ((a[0] + a[1]) * (a[0] + a[1] + 1)) // 2"
   ]
  },
  {
   "cell_type": "code",
   "execution_count": 22,
   "id": "9ab00727-43de-463e-bee6-b12138cfe99a",
   "metadata": {},
   "outputs": [],
   "source": [
    "def effpur(true, pred):\n",
    "    cantor_true = cantor_pairing(true)\n",
    "    cantor_pred = cantor_pairing(pred)\n",
    "    cantor_intersection = np.intersect1d(cantor_true, cantor_pred)\n",
    "\n",
    "    return {\n",
    "        \"eff\": len(cantor_intersection)\n",
    "        / len(cantor_true),  # if len(cantor_true) > 0 else 0,\n",
    "        \"pur\": len(cantor_intersection)\n",
    "        / len(cantor_pred),  # if len(cantor_pred) > 0 else 0,\n",
    "    }"
   ]
  },
  {
   "cell_type": "code",
   "execution_count": 57,
   "id": "c1c70109-915d-4b99-a967-17d828d3fab5",
   "metadata": {},
   "outputs": [
    {
     "data": {
      "text/plain": [
       "Data(hit_id=[48958], cell_val=[48958], eta=[48958], y=[48958], lx=[48958], cell_count=[48958], x=[48958], phi=[48958], ly=[48958], z=[48958], r=[48958], region=[48958], track_edges=[2, 34353], nhits=[34353], radius=[34353], particle_id=[34353], particle_eta=[34353], pt=[34353], config=[1], event_id='000000001')"
      ]
     },
     "execution_count": 57,
     "metadata": {},
     "output_type": "execute_result"
    }
   ],
   "source": [
    "graph"
   ]
  },
  {
   "cell_type": "code",
   "execution_count": 58,
   "id": "0444b302-a2e7-4168-8883-e36fbf81f3ab",
   "metadata": {},
   "outputs": [
    {
     "data": {
      "text/plain": [
       "torch.Size([9471])"
      ]
     },
     "execution_count": 58,
     "metadata": {},
     "output_type": "execute_result"
    }
   ],
   "source": [
    "graph.particle_id[ (graph.nhits > 2) & (graph.pt > 0.5) ].shape"
   ]
  },
  {
   "cell_type": "code",
   "execution_count": 59,
   "id": "04004226-55d0-4e6a-9b0a-dafa0ecc8ecb",
   "metadata": {},
   "outputs": [
    {
     "data": {
      "text/plain": [
       "torch.Size([2, 9471])"
      ]
     },
     "execution_count": 59,
     "metadata": {},
     "output_type": "execute_result"
    }
   ],
   "source": [
    "target_edges = graph.track_edges[: , (graph.nhits > 2) & (graph.pt > 0.5) ]\n",
    "target_edges.shape"
   ]
  },
  {
   "cell_type": "code",
   "execution_count": 61,
   "id": "5e67533f-f2b1-4619-86e6-c3b61deeaa06",
   "metadata": {},
   "outputs": [],
   "source": [
    "DEVICE=\"cuda:2\""
   ]
  },
  {
   "cell_type": "code",
   "execution_count": 62,
   "id": "c6c7d55f-f940-478a-8fe2-7fe63c70ff0e",
   "metadata": {},
   "outputs": [],
   "source": [
    "x = torch.stack([\n",
    "    graph.r/1000.0,\n",
    "    graph.phi/3.14,\n",
    "    graph.z/3000.0,\n",
    "    graph.cell_count,\n",
    "    graph.cell_val,\n",
    "    graph.lx,\n",
    "    graph.ly\n",
    "]).T.to(torch.float32).to(DEVICE)"
   ]
  },
  {
   "cell_type": "code",
   "execution_count": 63,
   "id": "6cf9f342-b26f-4f35-968a-85631f292329",
   "metadata": {},
   "outputs": [],
   "source": [
    "embeddingModel = torch.jit.load(\"../torchscript/500_geant4_pseudo_vertex_smear/embedding.pt\").to(DEVICE)"
   ]
  },
  {
   "cell_type": "code",
   "execution_count": 64,
   "id": "93038d06-42ca-4f37-82bf-c9617a732d98",
   "metadata": {},
   "outputs": [
    {
     "data": {
      "text/plain": [
       "torch.Size([48958, 8])"
      ]
     },
     "execution_count": 64,
     "metadata": {},
     "output_type": "execute_result"
    }
   ],
   "source": [
    "emb = embeddingModel(x).to(DEVICE)\n",
    "emb.shape"
   ]
  },
  {
   "cell_type": "code",
   "execution_count": 65,
   "id": "a99046bb-2ebe-4eb2-9974-23d8936bcd8e",
   "metadata": {},
   "outputs": [
    {
     "data": {
      "text/plain": [
       "torch.Size([2, 1073194])"
      ]
     },
     "execution_count": 65,
     "metadata": {},
     "output_type": "execute_result"
    }
   ],
   "source": [
    "edge_index = build_edges(emb, emb, r_max=0.2, k_max=600, backend=\"\")\n",
    "edge_index.shape"
   ]
  },
  {
   "cell_type": "code",
   "execution_count": 66,
   "id": "0c864d55-ef75-4385-8114-2b17c416906b",
   "metadata": {},
   "outputs": [
    {
     "ename": "TypeError",
     "evalue": "can't convert cuda:2 device type tensor to numpy. Use Tensor.cpu() to copy the tensor to host memory first.",
     "output_type": "error",
     "traceback": [
      "\u001b[0;31m---------------------------------------------------------------------------\u001b[0m",
      "\u001b[0;31mTypeError\u001b[0m                                 Traceback (most recent call last)",
      "Cell \u001b[0;32mIn[66], line 1\u001b[0m\n\u001b[0;32m----> 1\u001b[0m \u001b[43meffpur\u001b[49m\u001b[43m(\u001b[49m\u001b[43mtarget_edges\u001b[49m\u001b[43m,\u001b[49m\u001b[43m \u001b[49m\u001b[43medge_index\u001b[49m\u001b[43m)\u001b[49m\n",
      "Cell \u001b[0;32mIn[22], line 3\u001b[0m, in \u001b[0;36meffpur\u001b[0;34m(true, pred)\u001b[0m\n\u001b[1;32m      1\u001b[0m \u001b[38;5;28;01mdef\u001b[39;00m \u001b[38;5;21meffpur\u001b[39m(true, pred):\n\u001b[1;32m      2\u001b[0m     cantor_true \u001b[38;5;241m=\u001b[39m cantor_pairing(true)\n\u001b[0;32m----> 3\u001b[0m     cantor_pred \u001b[38;5;241m=\u001b[39m \u001b[43mcantor_pairing\u001b[49m\u001b[43m(\u001b[49m\u001b[43mpred\u001b[49m\u001b[43m)\u001b[49m\n\u001b[1;32m      4\u001b[0m     cantor_intersection \u001b[38;5;241m=\u001b[39m np\u001b[38;5;241m.\u001b[39mintersect1d(cantor_true, cantor_pred)\n\u001b[1;32m      6\u001b[0m     \u001b[38;5;28;01mreturn\u001b[39;00m {\n\u001b[1;32m      7\u001b[0m         \u001b[38;5;124m\"\u001b[39m\u001b[38;5;124meff\u001b[39m\u001b[38;5;124m\"\u001b[39m: \u001b[38;5;28mlen\u001b[39m(cantor_intersection)\n\u001b[1;32m      8\u001b[0m         \u001b[38;5;241m/\u001b[39m \u001b[38;5;28mlen\u001b[39m(cantor_true),  \u001b[38;5;66;03m# if len(cantor_true) > 0 else 0,\u001b[39;00m\n\u001b[1;32m      9\u001b[0m         \u001b[38;5;124m\"\u001b[39m\u001b[38;5;124mpur\u001b[39m\u001b[38;5;124m\"\u001b[39m: \u001b[38;5;28mlen\u001b[39m(cantor_intersection)\n\u001b[1;32m     10\u001b[0m         \u001b[38;5;241m/\u001b[39m \u001b[38;5;28mlen\u001b[39m(cantor_pred),  \u001b[38;5;66;03m# if len(cantor_pred) > 0 else 0,\u001b[39;00m\n\u001b[1;32m     11\u001b[0m     }\n",
      "Cell \u001b[0;32mIn[21], line 2\u001b[0m, in \u001b[0;36mcantor_pairing\u001b[0;34m(a)\u001b[0m\n\u001b[1;32m      1\u001b[0m \u001b[38;5;28;01mdef\u001b[39;00m \u001b[38;5;21mcantor_pairing\u001b[39m(a):\n\u001b[0;32m----> 2\u001b[0m     a \u001b[38;5;241m=\u001b[39m \u001b[43mnp\u001b[49m\u001b[38;5;241;43m.\u001b[39;49m\u001b[43msort\u001b[49m\u001b[43m(\u001b[49m\u001b[43ma\u001b[49m\u001b[43m,\u001b[49m\u001b[43m \u001b[49m\u001b[43maxis\u001b[49m\u001b[38;5;241;43m=\u001b[39;49m\u001b[38;5;241;43m0\u001b[39;49m\u001b[43m)\u001b[49m\n\u001b[1;32m      3\u001b[0m     \u001b[38;5;28;01mreturn\u001b[39;00m a[\u001b[38;5;241m1\u001b[39m] \u001b[38;5;241m+\u001b[39m ((a[\u001b[38;5;241m0\u001b[39m] \u001b[38;5;241m+\u001b[39m a[\u001b[38;5;241m1\u001b[39m]) \u001b[38;5;241m*\u001b[39m (a[\u001b[38;5;241m0\u001b[39m] \u001b[38;5;241m+\u001b[39m a[\u001b[38;5;241m1\u001b[39m] \u001b[38;5;241m+\u001b[39m \u001b[38;5;241m1\u001b[39m)) \u001b[38;5;241m/\u001b[39m\u001b[38;5;241m/\u001b[39m \u001b[38;5;241m2\u001b[39m\n",
      "File \u001b[0;32m<__array_function__ internals>:200\u001b[0m, in \u001b[0;36msort\u001b[0;34m(*args, **kwargs)\u001b[0m\n",
      "File \u001b[0;32m~/.local/lib/python3.10/site-packages/numpy/core/fromnumeric.py:1029\u001b[0m, in \u001b[0;36msort\u001b[0;34m(a, axis, kind, order)\u001b[0m\n\u001b[1;32m   1027\u001b[0m     axis \u001b[38;5;241m=\u001b[39m \u001b[38;5;241m-\u001b[39m\u001b[38;5;241m1\u001b[39m\n\u001b[1;32m   1028\u001b[0m \u001b[38;5;28;01melse\u001b[39;00m:\n\u001b[0;32m-> 1029\u001b[0m     a \u001b[38;5;241m=\u001b[39m \u001b[43masanyarray\u001b[49m\u001b[43m(\u001b[49m\u001b[43ma\u001b[49m\u001b[43m)\u001b[49m\u001b[38;5;241m.\u001b[39mcopy(order\u001b[38;5;241m=\u001b[39m\u001b[38;5;124m\"\u001b[39m\u001b[38;5;124mK\u001b[39m\u001b[38;5;124m\"\u001b[39m)\n\u001b[1;32m   1030\u001b[0m a\u001b[38;5;241m.\u001b[39msort(axis\u001b[38;5;241m=\u001b[39maxis, kind\u001b[38;5;241m=\u001b[39mkind, order\u001b[38;5;241m=\u001b[39morder)\n\u001b[1;32m   1031\u001b[0m \u001b[38;5;28;01mreturn\u001b[39;00m a\n",
      "File \u001b[0;32m~/.local/lib/python3.10/site-packages/torch/_tensor.py:956\u001b[0m, in \u001b[0;36mTensor.__array__\u001b[0;34m(self, dtype)\u001b[0m\n\u001b[1;32m    954\u001b[0m     \u001b[38;5;28;01mreturn\u001b[39;00m handle_torch_function(Tensor\u001b[38;5;241m.\u001b[39m__array__, (\u001b[38;5;28mself\u001b[39m,), \u001b[38;5;28mself\u001b[39m, dtype\u001b[38;5;241m=\u001b[39mdtype)\n\u001b[1;32m    955\u001b[0m \u001b[38;5;28;01mif\u001b[39;00m dtype \u001b[38;5;129;01mis\u001b[39;00m \u001b[38;5;28;01mNone\u001b[39;00m:\n\u001b[0;32m--> 956\u001b[0m     \u001b[38;5;28;01mreturn\u001b[39;00m \u001b[38;5;28;43mself\u001b[39;49m\u001b[38;5;241;43m.\u001b[39;49m\u001b[43mnumpy\u001b[49m\u001b[43m(\u001b[49m\u001b[43m)\u001b[49m\n\u001b[1;32m    957\u001b[0m \u001b[38;5;28;01melse\u001b[39;00m:\n\u001b[1;32m    958\u001b[0m     \u001b[38;5;28;01mreturn\u001b[39;00m \u001b[38;5;28mself\u001b[39m\u001b[38;5;241m.\u001b[39mnumpy()\u001b[38;5;241m.\u001b[39mastype(dtype, copy\u001b[38;5;241m=\u001b[39m\u001b[38;5;28;01mFalse\u001b[39;00m)\n",
      "\u001b[0;31mTypeError\u001b[0m: can't convert cuda:2 device type tensor to numpy. Use Tensor.cpu() to copy the tensor to host memory first."
     ]
    }
   ],
   "source": [
    "effpur(target_edges, edge_index)"
   ]
  },
  {
   "cell_type": "code",
   "execution_count": 12,
   "id": "f1f5dd1e-3b16-4d12-9834-8de1b54eaa95",
   "metadata": {},
   "outputs": [],
   "source": [
    "filterModel = torch.jit.load(\"../torchscript/500_geant4_pseudo_vertex_smear/filter.pt\").to(DEVICE)"
   ]
  },
  {
   "cell_type": "code",
   "execution_count": 13,
   "id": "bc60a1a0-03ba-4bcc-aa12-ee7099e5d657",
   "metadata": {},
   "outputs": [
    {
     "data": {
      "text/plain": [
       "torch.Size([1073192])"
      ]
     },
     "execution_count": 13,
     "metadata": {},
     "output_type": "execute_result"
    }
   ],
   "source": [
    "filter_scores = torch.sigmoid(filterModel(x[:,:3], edge_index))\n",
    "filter_scores.shape"
   ]
  },
  {
   "cell_type": "code",
   "execution_count": 95,
   "id": "a23afed4-dab4-496f-a783-29e4f705b237",
   "metadata": {},
   "outputs": [
    {
     "data": {
      "image/png": "[encoded data removed]",
      "text/plain": [
       "<Figure size 400x200 with 1 Axes>"
      ]
     },
     "metadata": {},
     "output_type": "display_data"
    }
   ],
   "source": [
    "plt.figure(figsize=(4,2))\n",
    "_ = plt.hist(filter_scores.detach().cpu().numpy().flatten(), bins=40)\n",
    "_ = plt.yscale('log')"
   ]
  },
  {
   "cell_type": "code",
   "execution_count": 15,
   "id": "da143a02-fc9d-4fe4-9f13-036e4376a2fb",
   "metadata": {},
   "outputs": [
    {
     "data": {
      "text/plain": [
       "torch.Size([2, 381210])"
      ]
     },
     "execution_count": 15,
     "metadata": {},
     "output_type": "execute_result"
    }
   ],
   "source": [
    "filter_edges = edge_index[:, filter_scores > 0.5 ]\n",
    "filter_edges.shape"
   ]
  },
  {
   "cell_type": "code",
   "execution_count": 78,
   "id": "3fe160d3-ea2c-403a-89d9-f6f07783f948",
   "metadata": {},
   "outputs": [
    {
     "data": {
      "text/plain": [
       "{'eff': 0.9302080033787351, 'pur': 0.02311062144224968}"
      ]
     },
     "execution_count": 78,
     "metadata": {},
     "output_type": "execute_result"
    }
   ],
   "source": [
    "effpur(target_edges, filter_edges)"
   ]
  },
  {
   "cell_type": "code",
   "execution_count": 96,
   "id": "09739f21-ec99-4965-9d60-e884604c9011",
   "metadata": {},
   "outputs": [],
   "source": [
    "gnnModel = torch.jit.load(\"../torchscript/500_geant4_pseudo_vertex_smear/gnn.pt\").to(DEVICE)"
   ]
  },
  {
   "cell_type": "code",
   "execution_count": 97,
   "id": "f76491ee-a94d-4c1b-9fd1-cb916531f912",
   "metadata": {},
   "outputs": [
    {
     "data": {
      "text/plain": [
       "torch.Size([762420])"
      ]
     },
     "execution_count": 97,
     "metadata": {},
     "output_type": "execute_result"
    }
   ],
   "source": [
    "gnn_scores = torch.sigmoid(gnnModel(x[:,:3], torch.hstack([filter_edges, filter_edges.flip(0)])))\n",
    "gnn_scores.shape"
   ]
  },
  {
   "cell_type": "code",
   "execution_count": 98,
   "id": "f84f830b-d265-4c10-a76a-2dd53fccbf81",
   "metadata": {},
   "outputs": [
    {
     "data": {
      "image/png": "[encoded data removed]",
      "text/plain": [
       "<Figure size 400x200 with 1 Axes>"
      ]
     },
     "metadata": {},
     "output_type": "display_data"
    }
   ],
   "source": [
    "plt.figure(figsize=(4,2))\n",
    "_ = plt.hist(gnn_scores.detach().cpu().numpy().flatten(), bins=40)\n",
    "_ = plt.yscale('log')"
   ]
  },
  {
   "cell_type": "code",
   "execution_count": 59,
   "id": "22b5d66a-6306-4670-bcb1-0c5695e600dc",
   "metadata": {},
   "outputs": [
    {
     "data": {
      "text/plain": [
       "torch.Size([2, 18012])"
      ]
     },
     "execution_count": 59,
     "metadata": {},
     "output_type": "execute_result"
    }
   ],
   "source": [
    "final_edges = filter_edges[:, gnn_scores[:len(gnn_scores)//2] > 0.5]\n",
    "final_edges.shape"
   ]
  },
  {
   "cell_type": "code",
   "execution_count": 79,
   "id": "9fe201b2-2659-4585-89a9-e6cf786f9b34",
   "metadata": {},
   "outputs": [
    {
     "data": {
      "text/plain": [
       "{'eff': 0.6069052898321191, 'pur': 0.31912058627581613}"
      ]
     },
     "execution_count": 79,
     "metadata": {},
     "output_type": "execute_result"
    }
   ],
   "source": [
    "effpur(target_edges, final_edges)"
   ]
  },
  {
   "cell_type": "code",
   "execution_count": 60,
   "id": "0a747477-e35c-4e10-bccb-536e50d46a9d",
   "metadata": {},
   "outputs": [],
   "source": [
    "sparse_matrix = torch_geometric.utils.to_scipy_sparse_matrix(final_edges)\n",
    "_, labels = sps.csgraph.connected_components(sparse_matrix, directed=False, return_labels=True)"
   ]
  },
  {
   "cell_type": "code",
   "execution_count": 61,
   "id": "f2cacfb3-4215-4b67-8f3c-ff99170564e3",
   "metadata": {},
   "outputs": [],
   "source": [
    "unique_labels, counts = np.unique(labels, return_counts=True)"
   ]
  },
  {
   "cell_type": "code",
   "execution_count": 62,
   "id": "829dff02-9865-427a-b6cc-e15c29de7752",
   "metadata": {},
   "outputs": [
    {
     "data": {
      "text/plain": [
       "2667"
      ]
     },
     "execution_count": 62,
     "metadata": {},
     "output_type": "execute_result"
    }
   ],
   "source": [
    "sum(counts > 2)"
   ]
  },
  {
   "cell_type": "code",
   "execution_count": 63,
   "id": "58d92981-9b88-4a6b-9084-63787bb5deae",
   "metadata": {},
   "outputs": [],
   "source": [
    "unique_labels = unique_labels[counts > 2]"
   ]
  },
  {
   "cell_type": "code",
   "execution_count": 64,
   "id": "eee061a5-d313-419b-8820-fa7c969a3803",
   "metadata": {},
   "outputs": [
    {
     "data": {
      "image/png": "[encoded data removed]",
      "text/plain": [
       "<Figure size 400x200 with 1 Axes>"
      ]
     },
     "metadata": {},
     "output_type": "display_data"
    }
   ],
   "source": [
    "plt.figure(figsize=(4,2))\n",
    "_ = plt.bar(*np.unique(counts[ counts > 2 ], return_counts=True))\n",
    "_ = plt.xticks(np.arange(3, max(counts)))"
   ]
  },
  {
   "cell_type": "markdown",
   "id": "0e80fcc2-b9e3-4f0a-8083-62c3a2c50e38",
   "metadata": {},
   "source": [
    "### States of trained event"
   ]
  },
  {
   "cell_type": "code",
   "execution_count": 103,
   "id": "1778039f-15f7-4be6-90b6-1eb501029aef",
   "metadata": {},
   "outputs": [],
   "source": [
    "base_dir = Path(\"/home/iwsatlas1/bhuth/exatrkx/gnn4itk/runs/ODD-pixel-geometric-geant-pseudo/event500-weight-increase/tmp\")"
   ]
  },
  {
   "cell_type": "code",
   "execution_count": 111,
   "id": "c5ad12eb-47b8-41df-b9f2-3de272cf871e",
   "metadata": {},
   "outputs": [
    {
     "data": {
      "text/plain": [
       "torch.Size([2, 849725])"
      ]
     },
     "execution_count": 111,
     "metadata": {},
     "output_type": "execute_result"
    }
   ],
   "source": [
    "torch.load(base_dir / \"metric_learning/testset/event['000000009'].pyg\").edge_index.shape"
   ]
  },
  {
   "cell_type": "code",
   "execution_count": 127,
   "id": "af1365ff-c2c5-49df-9fdd-a0766c6f6e9f",
   "metadata": {},
   "outputs": [],
   "source": [
    "def plot_scores(file, title):\n",
    "    testdata = torch.load(file)\n",
    "    target_edges = testdata.track_edges[: , (testdata.nhits > 2) & (testdata.pt > 0.5) ]\n",
    "    print(\"target:\",effpur(target_edges, testdata.edge_index[:, testdata.scores > 0.5]))\n",
    "    print(\"   all:\",effpur(testdata.track_edges, testdata.edge_index[:, testdata.scores > 0.5]))\n",
    "    plt.figure(figsize=(4,2))\n",
    "    plt.title(f\"{title}: {len(testdata.scores.detach().cpu().numpy())} edges\")\n",
    "    plt.hist(testdata.scores.detach().cpu().numpy(), bins=40)\n",
    "    plt.yscale('log')"
   ]
  },
  {
   "cell_type": "code",
   "execution_count": 128,
   "id": "32efec1a-20be-4055-b285-01fce92f9baa",
   "metadata": {},
   "outputs": [
    {
     "name": "stdout",
     "output_type": "stream",
     "text": [
      "target: {'eff': 0.953052408509251, 'pur': 0.03849876861887767}\n",
      "   all: {'eff': 0.5918527222875049, 'pur': 0.0845734943567186}\n"
     ]
    },
    {
     "data": {
      "image/png": "[encoded data removed]",
      "text/plain": [
       "<Figure size 400x200 with 1 Axes>"
      ]
     },
     "metadata": {},
     "output_type": "display_data"
    }
   ],
   "source": [
    "plot_scores(base_dir / \"filter/testset/event[['000000009']].pyg\", \"filter\")"
   ]
  },
  {
   "cell_type": "code",
   "execution_count": 129,
   "id": "bc08508a-90f9-4b33-8392-d661e5f6bbb8",
   "metadata": {},
   "outputs": [
    {
     "name": "stdout",
     "output_type": "stream",
     "text": [
      "target: {'eff': 0.8651886869345505, 'pur': 0.4577996291025143}\n",
      "   all: {'eff': 0.49014999654385843, 'pur': 0.917453745633329}\n"
     ]
    },
    {
     "data": {
      "image/png": "[encoded data removed]",
      "text/plain": [
       "<Figure size 400x200 with 1 Axes>"
      ]
     },
     "metadata": {},
     "output_type": "display_data"
    }
   ],
   "source": [
    "plot_scores(base_dir / \"gnn/testset/event[[['000000009']]].pyg\", \"GNN\")"
   ]
  },
  {
   "cell_type": "code",
   "execution_count": null,
   "id": "f5764138-39c6-461b-af65-1a54a3087cde",
   "metadata": {},
   "outputs": [],
   "source": []
  }
 ],
 "metadata": {
  "kernelspec": {
   "display_name": "Python 3 (ipykernel)",
   "language": "python",
   "name": "python3"
  },
  "language_info": {
   "codemirror_mode": {
    "name": "ipython",
    "version": 3
   },
   "file_extension": ".py",
   "mimetype": "text/x-python",
   "name": "python",
   "nbconvert_exporter": "python",
   "pygments_lexer": "ipython3",
   "version": "3.10.12"
  }
 },
 "nbformat": 4,
 "nbformat_minor": 5
}
