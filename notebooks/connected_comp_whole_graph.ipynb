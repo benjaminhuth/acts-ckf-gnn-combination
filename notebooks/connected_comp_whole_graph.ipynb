{
 "cells": [
  {
   "cell_type": "code",
   "execution_count": 2,
   "id": "892404b1-2d89-419d-9b08-dd0579338e2f",
   "metadata": {},
   "outputs": [
    {
     "name": "stderr",
     "output_type": "stream",
     "text": [
      "[W interface.cpp:47] Warning: Loading nvfuser library failed with: Error in dlopen: libnvfuser_codegen.so: cannot open shared object file: No such file or directory (function LoadingNvfuserLibrary)\n"
     ]
    }
   ],
   "source": [
    "import pandas as pd\n",
    "import matplotlib.pyplot as plt\n",
    "import matplotlib.colors\n",
    "import numpy as np\n",
    "import uproot\n",
    "import logging\n",
    "\n",
    "import acts\n",
    "\n",
    "from itertools import cycle\n",
    "\n",
    "import awkward as ak\n",
    "\n",
    "from gnn4itk_tools.detector_plotter import DetectorPlotter"
   ]
  },
  {
   "cell_type": "code",
   "execution_count": 3,
   "id": "95c5acb2-658a-4fa3-a5e0-14c09cd2b312",
   "metadata": {},
   "outputs": [],
   "source": [
    "match_df = pd.read_csv(\"../tmp/no_threshold_2/performance_gnn_plus_ckf.csv\", dtype={\"particle_id\": np.uint64})\n",
    "match_df = match_df[ match_df.event == 0 ].copy()"
   ]
  },
  {
   "cell_type": "code",
   "execution_count": 4,
   "id": "069dbfe1-2014-4299-b689-177b391eea0c",
   "metadata": {},
   "outputs": [
    {
     "data": {
      "text/plain": [
       "(887, 22)"
      ]
     },
     "execution_count": 4,
     "metadata": {},
     "output_type": "execute_result"
    }
   ],
   "source": [
    "particles = ak.to_dataframe(uproot.open(\"../tmp/simdata/particles_initial.root:particles\").arrays(), how=\"inner\").reset_index(drop=True)\n",
    "particles = particles[ particles.event_id == 0 ].copy()\n",
    "particles = particles[ particles.particle_id.isin(match_df.particle_id) ].copy()\n",
    "particles.shape"
   ]
  },
  {
   "cell_type": "code",
   "execution_count": 5,
   "id": "b9908bc6-c850-4a01-96ca-5b7337e7c16d",
   "metadata": {},
   "outputs": [
    {
     "data": {
      "text/html": [
       "<div>\n",
       "<style scoped>\n",
       "    .dataframe tbody tr th:only-of-type {\n",
       "        vertical-align: middle;\n",
       "    }\n",
       "\n",
       "    .dataframe tbody tr th {\n",
       "        vertical-align: top;\n",
       "    }\n",
       "\n",
       "    .dataframe thead th {\n",
       "        text-align: right;\n",
       "    }\n",
       "</style>\n",
       "<table border=\"1\" class=\"dataframe\">\n",
       "  <thead>\n",
       "    <tr style=\"text-align: right;\">\n",
       "      <th></th>\n",
       "      <th>event_id</th>\n",
       "      <th>particle_id</th>\n",
       "      <th>particle_type</th>\n",
       "      <th>process</th>\n",
       "      <th>vx</th>\n",
       "      <th>vy</th>\n",
       "      <th>vz</th>\n",
       "      <th>vt</th>\n",
       "      <th>px</th>\n",
       "      <th>py</th>\n",
       "      <th>...</th>\n",
       "      <th>eta</th>\n",
       "      <th>phi</th>\n",
       "      <th>pt</th>\n",
       "      <th>p</th>\n",
       "      <th>vertex_primary</th>\n",
       "      <th>vertex_secondary</th>\n",
       "      <th>particle</th>\n",
       "      <th>generation</th>\n",
       "      <th>sub_particle</th>\n",
       "      <th>matched</th>\n",
       "    </tr>\n",
       "  </thead>\n",
       "  <tbody>\n",
       "    <tr>\n",
       "      <th>2</th>\n",
       "      <td>0</td>\n",
       "      <td>4503599677702144</td>\n",
       "      <td>-211</td>\n",
       "      <td>0</td>\n",
       "      <td>-0.006878</td>\n",
       "      <td>0.006443</td>\n",
       "      <td>26.299278</td>\n",
       "      <td>0.0</td>\n",
       "      <td>1.618853</td>\n",
       "      <td>-0.872867</td>\n",
       "      <td>...</td>\n",
       "      <td>-1.899954</td>\n",
       "      <td>-0.494505</td>\n",
       "      <td>1.839180</td>\n",
       "      <td>6.28555</td>\n",
       "      <td>1</td>\n",
       "      <td>0</td>\n",
       "      <td>3</td>\n",
       "      <td>0</td>\n",
       "      <td>0</td>\n",
       "      <td>1</td>\n",
       "    </tr>\n",
       "    <tr>\n",
       "      <th>3</th>\n",
       "      <td>0</td>\n",
       "      <td>4503599694479360</td>\n",
       "      <td>321</td>\n",
       "      <td>0</td>\n",
       "      <td>-0.006878</td>\n",
       "      <td>0.006443</td>\n",
       "      <td>26.299278</td>\n",
       "      <td>0.0</td>\n",
       "      <td>-0.340527</td>\n",
       "      <td>-1.401685</td>\n",
       "      <td>...</td>\n",
       "      <td>-3.243134</td>\n",
       "      <td>-1.809120</td>\n",
       "      <td>1.442456</td>\n",
       "      <td>18.50160</td>\n",
       "      <td>1</td>\n",
       "      <td>0</td>\n",
       "      <td>4</td>\n",
       "      <td>0</td>\n",
       "      <td>0</td>\n",
       "      <td>1</td>\n",
       "    </tr>\n",
       "  </tbody>\n",
       "</table>\n",
       "<p>2 rows × 23 columns</p>\n",
       "</div>"
      ],
      "text/plain": [
       "   event_id       particle_id  particle_type  process        vx        vy  \\\n",
       "2         0  4503599677702144           -211        0 -0.006878  0.006443   \n",
       "3         0  4503599694479360            321        0 -0.006878  0.006443   \n",
       "\n",
       "          vz   vt        px        py  ...       eta       phi        pt  \\\n",
       "2  26.299278  0.0  1.618853 -0.872867  ... -1.899954 -0.494505  1.839180   \n",
       "3  26.299278  0.0 -0.340527 -1.401685  ... -3.243134 -1.809120  1.442456   \n",
       "\n",
       "          p  vertex_primary  vertex_secondary  particle  generation  \\\n",
       "2   6.28555               1                 0         3           0   \n",
       "3  18.50160               1                 0         4           0   \n",
       "\n",
       "   sub_particle  matched  \n",
       "2             0        1  \n",
       "3             0        1  \n",
       "\n",
       "[2 rows x 23 columns]"
      ]
     },
     "execution_count": 5,
     "metadata": {},
     "output_type": "execute_result"
    }
   ],
   "source": [
    "particles[\"matched\"] = particles.particle_id.map(dict(zip(match_df.particle_id, match_df.matched)))\n",
    "assert not any(pd.isna(particles.matched))\n",
    "particles.head(2)"
   ]
  },
  {
   "cell_type": "code",
   "execution_count": 6,
   "id": "b84df54f-108a-4bf0-b844-4267696a2be2",
   "metadata": {},
   "outputs": [],
   "source": [
    "hits = uproot.open(\"../tmp/simdata/hits.root:hits\").arrays(library=\"pd\")\n",
    "hits = hits[ (hits.event_id == 0) & (hits.tt < 25.0) ].copy()\n",
    "hits[\"hit_id\"] = np.arange(len(hits))\n",
    "hits.head(2)\n",
    "\n",
    "simhit_map = pd.read_csv(\"../tmp/no_threshold_2/digi/event000000000-measurement-simhit-map.csv\")\n",
    "measId_to_hitID = dict(zip(simhit_map.measurement_id, simhit_map.hit_id))\n",
    "hitId_to_particleId = dict(zip(hits.hit_id, hits.particle_id))\n",
    "measId_to_particleId = { m: hitId_to_particleId[ measId_to_hitID[ m ] ] for m in simhit_map.measurement_id }\n",
    "\n",
    "def process_prototracks(tracks):\n",
    "    tracks[\"hit_id\"] = tracks[\"measurementId\"].map(measId_to_hitID)\n",
    "    tracks[\"tx\"] = tracks.hit_id.map(dict(zip(hits.hit_id, hits.tx)))\n",
    "    tracks[\"ty\"] = tracks.hit_id.map(dict(zip(hits.hit_id, hits.ty)))\n",
    "    tracks[\"tz\"] = tracks.hit_id.map(dict(zip(hits.hit_id, hits.tz)))\n",
    "    tracks[\"geometry_id\"] = tracks.hit_id.map(dict(zip(hits.hit_id, hits.geometry_id)))\n",
    "    tracks[\"particle_id\"] = tracks.hit_id.map(hitId_to_particleId)\n",
    "    return tracks"
   ]
  },
  {
   "cell_type": "code",
   "execution_count": 7,
   "id": "07175fe2-0c90-494a-9741-7eff2feafae2",
   "metadata": {},
   "outputs": [
    {
     "name": "stdout",
     "output_type": "stream",
     "text": [
      "GNN prototracks: 2819\n"
     ]
    }
   ],
   "source": [
    "prototracks = pd.read_csv(\"../tmp/no_threshold_2/gnn_plus_ckf/event000000000-prototracks.csv\")\n",
    "prototracks = process_prototracks(prototracks)\n",
    "gnn_prototracks = [ t for _, t in prototracks.groupby(\"trackId\") ]\n",
    "print(\"GNN prototracks:\",len(gnn_prototracks))"
   ]
  },
  {
   "cell_type": "code",
   "execution_count": 28,
   "id": "25ef68b5-0beb-461a-b613-a3eb9964ca5b",
   "metadata": {},
   "outputs": [],
   "source": [
    "gnn_prototracks = list(reversed(sorted(gnn_prototracks, key=lambda t: len(t))))"
   ]
  },
  {
   "cell_type": "code",
   "execution_count": 9,
   "id": "0bc656c2-f723-4cf3-b462-14d16e6bd291",
   "metadata": {},
   "outputs": [
    {
     "data": {
      "text/html": [
       "<div>\n",
       "<style scoped>\n",
       "    .dataframe tbody tr th:only-of-type {\n",
       "        vertical-align: middle;\n",
       "    }\n",
       "\n",
       "    .dataframe tbody tr th {\n",
       "        vertical-align: top;\n",
       "    }\n",
       "\n",
       "    .dataframe thead th {\n",
       "        text-align: right;\n",
       "    }\n",
       "</style>\n",
       "<table border=\"1\" class=\"dataframe\">\n",
       "  <thead>\n",
       "    <tr style=\"text-align: right;\">\n",
       "      <th></th>\n",
       "      <th>edge0</th>\n",
       "      <th>edge1</th>\n",
       "      <th>weight</th>\n",
       "      <th>x0</th>\n",
       "      <th>y0</th>\n",
       "      <th>z0</th>\n",
       "      <th>x1</th>\n",
       "      <th>y1</th>\n",
       "      <th>z1</th>\n",
       "      <th>particle0</th>\n",
       "      <th>particle1</th>\n",
       "      <th>r0</th>\n",
       "      <th>r1</th>\n",
       "      <th>good</th>\n",
       "    </tr>\n",
       "  </thead>\n",
       "  <tbody>\n",
       "    <tr>\n",
       "      <th>0</th>\n",
       "      <td>5</td>\n",
       "      <td>2340</td>\n",
       "      <td>0.999589</td>\n",
       "      <td>98.324997</td>\n",
       "      <td>5.225</td>\n",
       "      <td>-1515.59998</td>\n",
       "      <td>85.474998</td>\n",
       "      <td>5.275000</td>\n",
       "      <td>-1315.59998</td>\n",
       "      <td>774619136327155712</td>\n",
       "      <td>774619136327155712</td>\n",
       "      <td>98.463728</td>\n",
       "      <td>85.637614</td>\n",
       "      <td>True</td>\n",
       "    </tr>\n",
       "    <tr>\n",
       "      <th>1</th>\n",
       "      <td>13</td>\n",
       "      <td>2348</td>\n",
       "      <td>0.999716</td>\n",
       "      <td>63.224998</td>\n",
       "      <td>-3.725</td>\n",
       "      <td>-1515.59998</td>\n",
       "      <td>54.775002</td>\n",
       "      <td>-3.575001</td>\n",
       "      <td>-1315.59998</td>\n",
       "      <td>607985950970085376</td>\n",
       "      <td>607985950970085376</td>\n",
       "      <td>63.334636</td>\n",
       "      <td>54.891542</td>\n",
       "      <td>True</td>\n",
       "    </tr>\n",
       "    <tr>\n",
       "      <th>2</th>\n",
       "      <td>14</td>\n",
       "      <td>83</td>\n",
       "      <td>0.999962</td>\n",
       "      <td>63.825001</td>\n",
       "      <td>7.225</td>\n",
       "      <td>-1515.59998</td>\n",
       "      <td>63.886929</td>\n",
       "      <td>7.205680</td>\n",
       "      <td>-1516.80005</td>\n",
       "      <td>607985949997006848</td>\n",
       "      <td>607985949997006848</td>\n",
       "      <td>64.232635</td>\n",
       "      <td>64.292002</td>\n",
       "      <td>True</td>\n",
       "    </tr>\n",
       "  </tbody>\n",
       "</table>\n",
       "</div>"
      ],
      "text/plain": [
       "   edge0  edge1    weight         x0     y0          z0         x1        y1  \\\n",
       "0      5   2340  0.999589  98.324997  5.225 -1515.59998  85.474998  5.275000   \n",
       "1     13   2348  0.999716  63.224998 -3.725 -1515.59998  54.775002 -3.575001   \n",
       "2     14     83  0.999962  63.825001  7.225 -1515.59998  63.886929  7.205680   \n",
       "\n",
       "           z1           particle0           particle1         r0         r1  \\\n",
       "0 -1315.59998  774619136327155712  774619136327155712  98.463728  85.637614   \n",
       "1 -1315.59998  607985950970085376  607985950970085376  63.334636  54.891542   \n",
       "2 -1516.80005  607985949997006848  607985949997006848  64.232635  64.292002   \n",
       "\n",
       "   good  \n",
       "0  True  \n",
       "1  True  \n",
       "2  True  "
      ]
     },
     "execution_count": 9,
     "metadata": {},
     "output_type": "execute_result"
    }
   ],
   "source": [
    "graph = pd.read_csv(\"../tmp/no_threshold_2/gnn_plus_ckf/event000000000-exatrkx-graph.csv\")\n",
    "spacepoints = pd.read_csv(\"../tmp/no_threshold_2/digi/event000000000-spacepoint.csv\")\n",
    "\n",
    "for edge, poscols in [(\"edge0\", [\"x0\",\"y0\",\"z0\"]), (\"edge1\", [\"x1\",\"y1\",\"z1\"])]:\n",
    "    for c in poscols:\n",
    "        graph[c] = graph[edge].map(dict(zip(spacepoints.measurement_id, spacepoints[c[:1]])))\n",
    "        \n",
    "graph[\"particle0\"] = graph[\"edge0\"].map(measId_to_particleId)\n",
    "graph[\"particle1\"] = graph[\"edge1\"].map(measId_to_particleId)\n",
    "\n",
    "graph[\"r0\"] = np.hypot(graph.x0, graph.y0)\n",
    "graph[\"r1\"] = np.hypot(graph.x1, graph.y1)\n",
    "\n",
    "graph[\"good\"] = (graph[\"particle0\"] == graph[\"particle1\"])\n",
    "\n",
    "graph.head(3)"
   ]
  },
  {
   "cell_type": "code",
   "execution_count": 10,
   "id": "ab691687-5216-4a24-8376-d4b38bfde6a6",
   "metadata": {},
   "outputs": [
    {
     "data": {
      "text/plain": [
       "0.993388967161591"
      ]
     },
     "execution_count": 10,
     "metadata": {},
     "output_type": "execute_result"
    }
   ],
   "source": [
    "sum(graph[\"good\"])/len(graph)"
   ]
  },
  {
   "cell_type": "code",
   "execution_count": 1,
   "id": "7274782f-fffc-405b-88f6-a1a1b8f847b5",
   "metadata": {},
   "outputs": [],
   "source": [
    "import networkx as nx"
   ]
  },
  {
   "cell_type": "code",
   "execution_count": 21,
   "id": "5eaa7e4f-a738-4528-a515-8113d1a737fd",
   "metadata": {},
   "outputs": [],
   "source": [
    "g = nx.DiGraph()\n",
    "\n",
    "for _, row in graph.iterrows():\n",
    "    color=\"green\" if row.good else \"red\"\n",
    "    if row.r0 < row.r1:\n",
    "        g.add_edge(row.edge0, row.edge1, color=color, weight=row.weight)\n",
    "    else:\n",
    "        g.add_edge(row.edge1, row.edge0, color=color, weight=row.weight)"
   ]
  },
  {
   "cell_type": "code",
   "execution_count": 22,
   "id": "30257118-7460-4391-a5ba-e644de1266f9",
   "metadata": {},
   "outputs": [
    {
     "data": {
      "text/plain": [
       "2972"
      ]
     },
     "execution_count": 22,
     "metadata": {},
     "output_type": "execute_result"
    }
   ],
   "source": [
    "tracks = [ g.subgraph(c) for c in nx.weakly_connected_components(g) ]\n",
    "tracks = [ t for t in tracks if len(t) >= 3 ]\n",
    "len(tracks)"
   ]
  },
  {
   "cell_type": "code",
   "execution_count": 25,
   "id": "c2b287db-416a-4ad5-9077-0d5664a7290d",
   "metadata": {},
   "outputs": [],
   "source": [
    "tracks = list(reversed(sorted(tracks, key=lambda t: len(t))))"
   ]
  },
  {
   "cell_type": "code",
   "execution_count": 30,
   "id": "7c4da6cd-4c39-4c61-bf27-cef35daaca08",
   "metadata": {},
   "outputs": [
    {
     "data": {
      "text/plain": [
       "19"
      ]
     },
     "execution_count": 30,
     "metadata": {},
     "output_type": "execute_result"
    }
   ],
   "source": [
    "len(tracks[1])"
   ]
  },
  {
   "cell_type": "code",
   "execution_count": 31,
   "id": "a5e5c9d6-3346-4915-b050-9d01140cc2cc",
   "metadata": {},
   "outputs": [
    {
     "data": {
      "text/plain": [
       "19"
      ]
     },
     "execution_count": 31,
     "metadata": {},
     "output_type": "execute_result"
    }
   ],
   "source": [
    "len(gnn_prototracks[1])"
   ]
  },
  {
   "cell_type": "code",
   "execution_count": null,
   "id": "62f7b48e-1553-4283-bbca-2c51ba1b13c1",
   "metadata": {},
   "outputs": [],
   "source": []
  }
 ],
 "metadata": {
  "kernelspec": {
   "display_name": "Python 3",
   "language": "python",
   "name": "python3"
  },
  "language_info": {
   "codemirror_mode": {
    "name": "ipython",
    "version": 3
   },
   "file_extension": ".py",
   "mimetype": "text/x-python",
   "name": "python",
   "nbconvert_exporter": "python",
   "pygments_lexer": "ipython3",
   "version": "3.11.4"
  }
 },
 "nbformat": 4,
 "nbformat_minor": 5
}
