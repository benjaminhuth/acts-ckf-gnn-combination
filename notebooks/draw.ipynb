{
 "cells": [
  {
   "cell_type": "code",
   "execution_count": 156,
   "id": "56bdeec7-0b70-4f71-8197-8b55121c0604",
   "metadata": {},
   "outputs": [],
   "source": [
    "import ROOT\n",
    "import pandas as pd\n",
    "import numpy as np\n",
    "import matplotlib.pyplot as plt\n",
    "\n",
    "plt.rcParams.update({'font.size': 12})"
   ]
  },
  {
   "cell_type": "code",
   "execution_count": 157,
   "id": "6a9343c1-bc74-4d04-9719-a5ab8835c6ae",
   "metadata": {},
   "outputs": [],
   "source": [
    "def plotTEfficency(tefficency, ax, **errorbar_kwargs):\n",
    "    th1 = tefficency.GetTotalHistogram()\n",
    "    \n",
    "    bins = [ i for i in range(th1.GetNbinsX()) if th1.GetBinContent(i) > 0.0 ]\n",
    "    \n",
    "    x = [ th1.GetBinCenter(i) for i in bins ]\n",
    "\n",
    "    x_lo = [ th1.GetBinLowEdge(i) for i in bins ]\n",
    "    x_width = [ th1.GetBinWidth(i) for i in bins ]\n",
    "    x_hi = np.add(x_lo, x_width)\n",
    "    x_err_lo = np.subtract(x, x_lo)\n",
    "    x_err_hi = np.subtract(x_hi, x)\n",
    "\n",
    "    y = [ tefficency.GetEfficiency(i) for i in bins ]\n",
    "    y_err_lo = [ tefficency.GetEfficiencyErrorLow(i) for i in bins ]\n",
    "    y_err_hi = [ tefficency.GetEfficiencyErrorUp(i) for i in bins ]\n",
    "\n",
    "    ax.errorbar(x, y, yerr=(y_err_lo, y_err_hi), xerr=(x_err_lo, x_err_hi), **errorbar_kwargs)\n",
    "    return ax"
   ]
  },
  {
   "cell_type": "code",
   "execution_count": 164,
   "id": "587866cb-efdc-45cc-8535-7dd3e0af305d",
   "metadata": {},
   "outputs": [],
   "source": [
    "def show_performance_in_df(performance, label=\"value\", df=None):\n",
    "    if df is None:\n",
    "        keys = [\"eff_tracks\", \"fakerate_tracks\", \"duplicaterate_tracks\", \"eff_particles\", \"fakerate_particles\", \"duplicaterate_particles\"]\n",
    "        df = pd.DataFrame({\"key\": keys})\n",
    "    else:\n",
    "        keys = df[\"key\"]\n",
    "        \n",
    "    df[label] = [ performance.Get(key)[0] for key in keys ]\n",
    "    return df\n",
    "    #print(df.to_string(formatters={\"value\": \"{:.2%}\".format}))"
   ]
  },
  {
   "cell_type": "code",
   "execution_count": 177,
   "id": "07a757c6-8342-423b-b56b-5a5ccf79fadc",
   "metadata": {},
   "outputs": [],
   "source": [
    "performance_ckf_only_fatras = ROOT.TFile.Open(\"../output_n10_fatras/performance_ckf.root\")\n",
    "performance_kf_plus_cf_fatras = ROOT.TFile.Open(\"../output_n10_fatras/performance_kf_plus_ckf.root\")"
   ]
  },
  {
   "cell_type": "code",
   "execution_count": 178,
   "id": "1434222e-bca9-448c-b003-f7d5038268d5",
   "metadata": {},
   "outputs": [
    {
     "data": {
      "text/html": [
       "<div>\n",
       "<style scoped>\n",
       "    .dataframe tbody tr th:only-of-type {\n",
       "        vertical-align: middle;\n",
       "    }\n",
       "\n",
       "    .dataframe tbody tr th {\n",
       "        vertical-align: top;\n",
       "    }\n",
       "\n",
       "    .dataframe thead th {\n",
       "        text-align: right;\n",
       "    }\n",
       "</style>\n",
       "<table border=\"1\" class=\"dataframe\">\n",
       "  <thead>\n",
       "    <tr style=\"text-align: right;\">\n",
       "      <th></th>\n",
       "      <th>key</th>\n",
       "      <th>CKF only</th>\n",
       "      <th>KF+CKF</th>\n",
       "    </tr>\n",
       "  </thead>\n",
       "  <tbody>\n",
       "    <tr>\n",
       "      <th>0</th>\n",
       "      <td>eff_tracks</td>\n",
       "      <td>0.675649</td>\n",
       "      <td>0.885455</td>\n",
       "    </tr>\n",
       "    <tr>\n",
       "      <th>1</th>\n",
       "      <td>fakerate_tracks</td>\n",
       "      <td>0.123386</td>\n",
       "      <td>0.036710</td>\n",
       "    </tr>\n",
       "    <tr>\n",
       "      <th>2</th>\n",
       "      <td>duplicaterate_tracks</td>\n",
       "      <td>0.391823</td>\n",
       "      <td>0.209794</td>\n",
       "    </tr>\n",
       "    <tr>\n",
       "      <th>3</th>\n",
       "      <td>eff_particles</td>\n",
       "      <td>0.471278</td>\n",
       "      <td>0.577060</td>\n",
       "    </tr>\n",
       "    <tr>\n",
       "      <th>4</th>\n",
       "      <td>fakerate_particles</td>\n",
       "      <td>0.133078</td>\n",
       "      <td>0.026276</td>\n",
       "    </tr>\n",
       "    <tr>\n",
       "      <th>5</th>\n",
       "      <td>duplicaterate_particles</td>\n",
       "      <td>0.262189</td>\n",
       "      <td>0.112809</td>\n",
       "    </tr>\n",
       "  </tbody>\n",
       "</table>\n",
       "</div>"
      ],
      "text/plain": [
       "                       key  CKF only    KF+CKF\n",
       "0               eff_tracks  0.675649  0.885455\n",
       "1          fakerate_tracks  0.123386  0.036710\n",
       "2     duplicaterate_tracks  0.391823  0.209794\n",
       "3            eff_particles  0.471278  0.577060\n",
       "4       fakerate_particles  0.133078  0.026276\n",
       "5  duplicaterate_particles  0.262189  0.112809"
      ]
     },
     "execution_count": 178,
     "metadata": {},
     "output_type": "execute_result"
    }
   ],
   "source": [
    "df = show_performance_in_df(performance_ckf_only_fatras, \"CKF only\")\n",
    "df = show_performance_in_df(performance_kf_plus_cf_fatras, \"KF+CKF\", df)\n",
    "df"
   ]
  },
  {
   "cell_type": "code",
   "execution_count": 179,
   "id": "ac3f72d9-6306-433e-9fca-5560f4b302ac",
   "metadata": {},
   "outputs": [
    {
     "data": {
      "image/png": "[encoded data removed]",
      "text/plain": [
       "<Figure size 1296x432 with 2 Axes>"
      ]
     },
     "metadata": {
      "needs_background": "light"
     },
     "output_type": "display_data"
    }
   ],
   "source": [
    "fig, axes = plt.subplots(1,2,figsize=(18,6))\n",
    "\n",
    "for ax, key in zip(axes, ['trackeff_vs_eta', 'duplicationRate_vs_eta']):\n",
    "    plotTEfficency(performance_ckf_only_fatras.Get(key), ax, fmt=\"none\", color=\"tab:blue\", label=\"CKF only\")\n",
    "    plotTEfficency(performance_kf_plus_cf_fatras.Get(key), ax, fmt=\"none\", color=\"tab:orange\", label=\"KF + CKF\")\n",
    "    ax.set_title(key)\n",
    "    ax.set_ylim(0,1)\n",
    "    ax.legend()\n",
    "\n",
    "fig.suptitle(\"FATRAS\")\n",
    "fig.tight_layout()"
   ]
  },
  {
   "cell_type": "code",
   "execution_count": 180,
   "id": "0fe5f5e4-9589-4600-a28c-10cc83f6cfc9",
   "metadata": {},
   "outputs": [],
   "source": [
    "performance_ckf_only_geant = ROOT.TFile.Open(\"../output_n10_geant/performance_ckf.root\")\n",
    "performance_kf_plus_cf_geant = ROOT.TFile.Open(\"../output_n10_geant/performance_kf_plus_ckf.root\")"
   ]
  },
  {
   "cell_type": "code",
   "execution_count": 181,
   "id": "d9c0a004-73dd-45dd-9447-bcce8025ee96",
   "metadata": {},
   "outputs": [
    {
     "data": {
      "text/html": [
       "<div>\n",
       "<style scoped>\n",
       "    .dataframe tbody tr th:only-of-type {\n",
       "        vertical-align: middle;\n",
       "    }\n",
       "\n",
       "    .dataframe tbody tr th {\n",
       "        vertical-align: top;\n",
       "    }\n",
       "\n",
       "    .dataframe thead th {\n",
       "        text-align: right;\n",
       "    }\n",
       "</style>\n",
       "<table border=\"1\" class=\"dataframe\">\n",
       "  <thead>\n",
       "    <tr style=\"text-align: right;\">\n",
       "      <th></th>\n",
       "      <th>key</th>\n",
       "      <th>CKF only</th>\n",
       "      <th>KF+CKF</th>\n",
       "    </tr>\n",
       "  </thead>\n",
       "  <tbody>\n",
       "    <tr>\n",
       "      <th>0</th>\n",
       "      <td>eff_tracks</td>\n",
       "      <td>0.251844</td>\n",
       "      <td>0.652765</td>\n",
       "    </tr>\n",
       "    <tr>\n",
       "      <th>1</th>\n",
       "      <td>fakerate_tracks</td>\n",
       "      <td>0.144630</td>\n",
       "      <td>0.039825</td>\n",
       "    </tr>\n",
       "    <tr>\n",
       "      <th>2</th>\n",
       "      <td>duplicaterate_tracks</td>\n",
       "      <td>0.196109</td>\n",
       "      <td>0.309396</td>\n",
       "    </tr>\n",
       "    <tr>\n",
       "      <th>3</th>\n",
       "      <td>eff_particles</td>\n",
       "      <td>0.474602</td>\n",
       "      <td>0.683541</td>\n",
       "    </tr>\n",
       "    <tr>\n",
       "      <th>4</th>\n",
       "      <td>fakerate_particles</td>\n",
       "      <td>0.351320</td>\n",
       "      <td>0.045778</td>\n",
       "    </tr>\n",
       "    <tr>\n",
       "      <th>5</th>\n",
       "      <td>duplicaterate_particles</td>\n",
       "      <td>0.301893</td>\n",
       "      <td>0.206744</td>\n",
       "    </tr>\n",
       "  </tbody>\n",
       "</table>\n",
       "</div>"
      ],
      "text/plain": [
       "                       key  CKF only    KF+CKF\n",
       "0               eff_tracks  0.251844  0.652765\n",
       "1          fakerate_tracks  0.144630  0.039825\n",
       "2     duplicaterate_tracks  0.196109  0.309396\n",
       "3            eff_particles  0.474602  0.683541\n",
       "4       fakerate_particles  0.351320  0.045778\n",
       "5  duplicaterate_particles  0.301893  0.206744"
      ]
     },
     "execution_count": 181,
     "metadata": {},
     "output_type": "execute_result"
    }
   ],
   "source": [
    "df = show_performance_in_df(performance_ckf_only_geant, \"CKF only\")\n",
    "df = show_performance_in_df(performance_kf_plus_cf_geant, \"KF+CKF\", df)\n",
    "df"
   ]
  },
  {
   "cell_type": "code",
   "execution_count": 182,
   "id": "484a6db1-1b1b-4b08-b0ae-9a71a09627bf",
   "metadata": {},
   "outputs": [
    {
     "data": {
      "image/png": "[encoded data removed]",
      "text/plain": [
       "<Figure size 1296x432 with 2 Axes>"
      ]
     },
     "metadata": {
      "needs_background": "light"
     },
     "output_type": "display_data"
    }
   ],
   "source": [
    "fig, axes = plt.subplots(1,2,figsize=(18,6))\n",
    "\n",
    "for ax, key in zip(axes, ['trackeff_vs_eta', 'duplicationRate_vs_eta']):\n",
    "    plotTEfficency(performance_ckf_only_geant.Get(key), ax, fmt=\"none\", color=\"tab:blue\", label=\"CKF only\")\n",
    "    plotTEfficency(performance_kf_plus_cf_geant.Get(key), ax, fmt=\"none\", color=\"tab:orange\", label=\"KF + CKF\")\n",
    "    ax.set_title(key)\n",
    "    ax.set_ylim(0,1)\n",
    "    ax.legend()\n",
    "\n",
    "fig.suptitle(\"Geant4\")\n",
    "fig.tight_layout()"
   ]
  },
  {
   "cell_type": "code",
   "execution_count": null,
   "id": "56e4a93b-0af8-4e37-b4d4-5378e68dbcc5",
   "metadata": {},
   "outputs": [],
   "source": []
  }
 ],
 "metadata": {
  "kernelspec": {
   "display_name": "Python 3",
   "language": "python",
   "name": "python3"
  },
  "language_info": {
   "codemirror_mode": {
    "name": "ipython",
    "version": 3
   },
   "file_extension": ".py",
   "mimetype": "text/x-python",
   "name": "python",
   "nbconvert_exporter": "python",
   "pygments_lexer": "ipython3",
   "version": "3.11.3"
  }
 },
 "nbformat": 4,
 "nbformat_minor": 5
}
