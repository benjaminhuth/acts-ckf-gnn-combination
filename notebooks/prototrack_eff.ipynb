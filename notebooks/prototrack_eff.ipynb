{
 "cells": [
  {
   "cell_type": "code",
   "execution_count": 16,
   "id": "9fd0fa8d-b9a9-4fe2-92df-e37d9df5fc0b",
   "metadata": {},
   "outputs": [],
   "source": [
    "import pandas as pd\n",
    "import matplotlib.pyplot as plt\n",
    "import numpy as np"
   ]
  },
  {
   "cell_type": "code",
   "execution_count": 5,
   "id": "c369b6d2-fd71-4f9d-9143-4d5399533a2c",
   "metadata": {},
   "outputs": [],
   "source": [
    "exatrkx_prototracks_path = \"../output_pixel_only/from_exatrkx/event000000000-prototracks.csv\"\n",
    "true_prototracks_path = \"../output_pixel_only/from_truth/event000000000-prototracks.csv\""
   ]
  },
  {
   "cell_type": "code",
   "execution_count": 12,
   "id": "2b695d87-8745-4652-b897-b5d8ad57aaae",
   "metadata": {},
   "outputs": [],
   "source": [
    "exatrkx_prototracks = [ df for tid, df in pd.read_csv(exatrkx_prototracks_path).groupby(\"trackId\") if len(df) > 2 ]\n",
    "true_prototracks = [ df for tid, df in pd.read_csv(true_prototracks_path).groupby(\"trackId\") if len(df) > 2 ]"
   ]
  },
  {
   "cell_type": "code",
   "execution_count": 13,
   "id": "3d4c3158-5ed5-4f36-9095-921debbb45a5",
   "metadata": {},
   "outputs": [
    {
     "data": {
      "text/plain": [
       "(441, 8077)"
      ]
     },
     "execution_count": 13,
     "metadata": {},
     "output_type": "execute_result"
    }
   ],
   "source": [
    "len(exatrkx_prototracks), len(true_prototracks)"
   ]
  },
  {
   "cell_type": "code",
   "execution_count": 14,
   "id": "ea3556b4-911c-49d9-97d9-cc8f84827d8d",
   "metadata": {},
   "outputs": [
    {
     "data": {
      "text/plain": [
       "3"
      ]
     },
     "execution_count": 14,
     "metadata": {},
     "output_type": "execute_result"
    }
   ],
   "source": [
    "min([ len(t) for t in exatrkx_prototracks ])"
   ]
  },
  {
   "cell_type": "code",
   "execution_count": 19,
   "id": "8ba03762-f9db-4013-9769-c7e895d13940",
   "metadata": {},
   "outputs": [
    {
     "data": {
      "text/plain": [
       "<BarContainer object of 12 artists>"
      ]
     },
     "execution_count": 19,
     "metadata": {},
     "output_type": "execute_result"
    },
    {
     "data": {
      "image/png": "[encoded data removed]",
      "text/plain": [
       "<Figure size 640x480 with 1 Axes>"
      ]
     },
     "metadata": {},
     "output_type": "display_data"
    }
   ],
   "source": [
    "plt.bar(*np.unique([ len(t) for t in true_prototracks ], return_counts=True))\n",
    "plt.bar(*np.unique([ len(t) for t in exatrkx_prototracks ], return_counts=True))\n"
   ]
  },
  {
   "cell_type": "code",
   "execution_count": null,
   "id": "0ed21aeb-0eda-4277-8232-eed51bf5300c",
   "metadata": {},
   "outputs": [],
   "source": []
  },
  {
   "cell_type": "code",
   "execution_count": null,
   "id": "8d02692a-0483-4769-9845-fbf53c094b61",
   "metadata": {},
   "outputs": [],
   "source": []
  }
 ],
 "metadata": {
  "kernelspec": {
   "display_name": "Python 3 (ipykernel)",
   "language": "python",
   "name": "python3"
  },
  "language_info": {
   "codemirror_mode": {
    "name": "ipython",
    "version": 3
   },
   "file_extension": ".py",
   "mimetype": "text/x-python",
   "name": "python",
   "nbconvert_exporter": "python",
   "pygments_lexer": "ipython3",
   "version": "3.10.12"
  }
 },
 "nbformat": 4,
 "nbformat_minor": 5
}
