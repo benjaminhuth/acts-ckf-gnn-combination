{
 "cells": [
  {
   "cell_type": "code",
   "execution_count": 42,
   "id": "89bfd258-319a-4e83-a733-74ba51ff1ec3",
   "metadata": {},
   "outputs": [],
   "source": [
    "import pandas as pd\n",
    "import matplotlib.pyplot as plt\n",
    "import matplotlib.colors\n",
    "import numpy as np\n",
    "import uproot\n",
    "import logging\n",
    "\n",
    "import acts\n",
    "\n",
    "from pathlib import Path\n",
    "from itertools import cycle\n",
    "\n",
    "import awkward as ak"
   ]
  },
  {
   "cell_type": "code",
   "execution_count": 43,
   "id": "7eb86810-4ffe-4cce-a79c-5c8ff0dc9f63",
   "metadata": {},
   "outputs": [],
   "source": [
    "def plot_prototrack(prototrack):\n",
    "    colors = [ c for i, c in zip(range(len(prototrack)), cycle(matplotlib.colors.TABLEAU_COLORS)) ]\n",
    "    \n",
    "    fig, ax = plt.subplots(1,2,figsize=(10,3))\n",
    "    fig.suptitle(\"Prototrack with ID {} and lenght {}\".format(str(prototrack.trackId.to_list()[0]), len(prototrack)))\n",
    "\n",
    "    # move around a bit so we see overlaps\n",
    "    def randomify(x):\n",
    "        d = max(x) - min(x)\n",
    "        r = np.random.normal(0,0.01*d,len(x))\n",
    "        return x + r\n",
    "    \n",
    "    ax[0].scatter(randomify(prototrack.z), randomify(np.hypot(prototrack.x, prototrack.y)), color=colors, marker=\"x\")\n",
    "    ax[1].scatter(randomify(prototrack.x), randomify(prototrack.y), color=colors, marker=\"x\")\n",
    "\n",
    "    return fig, ax"
   ]
  },
  {
   "cell_type": "code",
   "execution_count": 78,
   "id": "7b6f956f-ea79-48d1-b16b-d3d8881fd143",
   "metadata": {},
   "outputs": [],
   "source": [
    "#base_path = Path(\"../output/gnn_ckf_no_threshold\")\n",
    "base_path = Path(\"../output/gnn_ckf_no_threshold/\")"
   ]
  },
  {
   "cell_type": "code",
   "execution_count": 90,
   "id": "8d1681cd-a272-42b3-9b46-cad216be7d8a",
   "metadata": {},
   "outputs": [],
   "source": [
    "particles = ak.to_dataframe(uproot.open(\"../10events/particles_initial.root:particles\").arrays()).reset_index(drop=True)\n",
    "particles = particles[ particles.event_id == 0 ].copy()"
   ]
  },
  {
   "cell_type": "code",
   "execution_count": 86,
   "id": "ac6bba02-835c-4364-af16-a9534cdf8897",
   "metadata": {},
   "outputs": [
    {
     "data": {
      "text/plain": [
       "0.8491302804401846"
      ]
     },
     "execution_count": 86,
     "metadata": {},
     "output_type": "execute_result"
    }
   ],
   "source": [
    "matched_df = pd.read_csv(base_path / \"performance_exatrkx.csv\")\n",
    "matched_df = matched_df[ matched_df.event == 0 ].copy()\n",
    "matched_df[\"eta\"] = matched_df.particle_id.map(dict(zip(particles.particle_id, particles.eta)))\n",
    "matched_df[\"pt\"] = matched_df.particle_id.map(dict(zip(particles.particle_id, particles.pt)))\n",
    "matched_df[\"pix_nhits\"] = matched_df.particle_id.map(dict(measurements[ measurements.volume.isin([16,17,18]) ].groupby(\"particle_id\").count().hit_id))"
   ]
  },
  {
   "cell_type": "code",
   "execution_count": 114,
   "id": "0ccd394b-48f0-4319-80d5-aa1e000c5abc",
   "metadata": {},
   "outputs": [
    {
     "data": {
      "text/plain": [
       "(0.8783634353114633, 0.8818181818181818)"
      ]
     },
     "execution_count": 114,
     "metadata": {},
     "output_type": "execute_result"
    }
   ],
   "source": [
    "def eff(x):\n",
    "    return sum(x)/len(x)\n",
    "\n",
    "eff(matched_df.matched.to_numpy()), eff(matched_df[ matched_df.pt > 1.0 ].matched.to_numpy())"
   ]
  },
  {
   "cell_type": "code",
   "execution_count": 119,
   "id": "9b62619d-7c5c-417d-a2d3-cf370e761aa5",
   "metadata": {},
   "outputs": [
    {
     "data": {
      "image/png": "[encoded data removed]",
      "text/plain": [
       "<Figure size 1000x300 with 2 Axes>"
      ]
     },
     "metadata": {},
     "output_type": "display_data"
    }
   ],
   "source": [
    "fig, ax = plt.subplots(1,2,figsize=(10,3))\n",
    "_, bins, _ = ax[0].hist(matched_df.eta, bins=20, range=(-4,4), alpha=0.5)\n",
    "ax[0].hist(matched_df[ matched_df.matched == 0 ].eta, bins=bins, range=(-4,4), color=\"tab:blue\") \n",
    "_, bins, _ = ax[1].hist(matched_df.pt, bins=20, range=(0,5), alpha=0.5)\n",
    "ax[1].hist(matched_df[ matched_df.matched == 0 ].pt, bins=bins, color=\"tab:blue\")\n",
    "\n",
    "fig.tight_layout()"
   ]
  },
  {
   "cell_type": "code",
   "execution_count": 79,
   "id": "70ff7279-5702-4852-a35c-b4e5a5630949",
   "metadata": {},
   "outputs": [
    {
     "name": "stdout",
     "output_type": "stream",
     "text": [
      "(29685, 5)\n",
      "(29685, 5)\n"
     ]
    }
   ],
   "source": [
    "prototracks = pd.read_csv(base_path / \"exatrkx/event000000000-prototracks.csv\")\n",
    "print(prototracks.shape)\n",
    "prototracks = prototracks[ ~prototracks.duplicated([\"x\", \"y\", \"z\", \"measurementId\"]) ].copy()\n",
    "print(prototracks.shape)"
   ]
  },
  {
   "cell_type": "code",
   "execution_count": 80,
   "id": "aa20b035-e3a6-4726-be81-d79a2baa65ab",
   "metadata": {},
   "outputs": [
    {
     "data": {
      "text/html": [
       "<div>\n",
       "<style scoped>\n",
       "    .dataframe tbody tr th:only-of-type {\n",
       "        vertical-align: middle;\n",
       "    }\n",
       "\n",
       "    .dataframe tbody tr th {\n",
       "        vertical-align: top;\n",
       "    }\n",
       "\n",
       "    .dataframe thead th {\n",
       "        text-align: right;\n",
       "    }\n",
       "</style>\n",
       "<table border=\"1\" class=\"dataframe\">\n",
       "  <thead>\n",
       "    <tr style=\"text-align: right;\">\n",
       "      <th></th>\n",
       "      <th>trackId</th>\n",
       "      <th>measurementId</th>\n",
       "      <th>x</th>\n",
       "      <th>y</th>\n",
       "      <th>z</th>\n",
       "      <th>hit_id</th>\n",
       "      <th>tx</th>\n",
       "      <th>ty</th>\n",
       "      <th>tz</th>\n",
       "      <th>geometry_id</th>\n",
       "      <th>particle_id</th>\n",
       "    </tr>\n",
       "  </thead>\n",
       "  <tbody>\n",
       "    <tr>\n",
       "      <th>0</th>\n",
       "      <td>0</td>\n",
       "      <td>3</td>\n",
       "      <td>75.975</td>\n",
       "      <td>-8.125000</td>\n",
       "      <td>-1515.6</td>\n",
       "      <td>3</td>\n",
       "      <td>75.966911</td>\n",
       "      <td>-8.117891</td>\n",
       "      <td>-1515.599976</td>\n",
       "      <td>1152921779484754177</td>\n",
       "      <td>860187531394678784</td>\n",
       "    </tr>\n",
       "    <tr>\n",
       "      <th>1</th>\n",
       "      <td>0</td>\n",
       "      <td>2341</td>\n",
       "      <td>66.175</td>\n",
       "      <td>-6.328211</td>\n",
       "      <td>-1315.6</td>\n",
       "      <td>2342</td>\n",
       "      <td>66.162704</td>\n",
       "      <td>-6.349545</td>\n",
       "      <td>-1315.599976</td>\n",
       "      <td>1152921916923707649</td>\n",
       "      <td>860187531394678784</td>\n",
       "    </tr>\n",
       "  </tbody>\n",
       "</table>\n",
       "</div>"
      ],
      "text/plain": [
       "   trackId  measurementId       x         y       z  hit_id         tx  \\\n",
       "0        0              3  75.975 -8.125000 -1515.6       3  75.966911   \n",
       "1        0           2341  66.175 -6.328211 -1315.6    2342  66.162704   \n",
       "\n",
       "         ty           tz          geometry_id         particle_id  \n",
       "0 -8.117891 -1515.599976  1152921779484754177  860187531394678784  \n",
       "1 -6.349545 -1315.599976  1152921916923707649  860187531394678784  "
      ]
     },
     "execution_count": 80,
     "metadata": {},
     "output_type": "execute_result"
    }
   ],
   "source": [
    "hits = uproot.open(\"../10events/hits.root:hits\").arrays(library=\"pd\")\n",
    "hits = hits[ (hits.event_id == 0) & (hits.tt < 25.0) ].copy()\n",
    "hits[\"hit_id\"] = np.arange(len(hits))\n",
    "hits.head(2)\n",
    "\n",
    "simhit_map = pd.read_csv(base_path / \"digi/event000000000-measurement-simhit-map.csv\")\n",
    "measId_to_hitID = dict(zip(simhit_map.measurement_id, simhit_map.hit_id))\n",
    "\n",
    "\n",
    "prototracks[\"hit_id\"] = prototracks[\"measurementId\"].map(measId_to_hitID)\n",
    "prototracks[\"tx\"] = prototracks.hit_id.map(dict(zip(hits.hit_id, hits.tx)))\n",
    "prototracks[\"ty\"] = prototracks.hit_id.map(dict(zip(hits.hit_id, hits.ty)))\n",
    "prototracks[\"tz\"] = prototracks.hit_id.map(dict(zip(hits.hit_id, hits.tz)))\n",
    "prototracks[\"geometry_id\"] = prototracks.hit_id.map(dict(zip(hits.hit_id, hits.geometry_id)))\n",
    "\n",
    "hitId_to_particleId = dict(zip(hits.hit_id, hits.particle_id))\n",
    "prototracks[\"particle_id\"] = prototracks.hit_id.map(hitId_to_particleId)\n",
    "\n",
    "prototracks.head(2)"
   ]
  },
  {
   "cell_type": "code",
   "execution_count": 81,
   "id": "95f43168-3996-4040-ae6a-003db067642a",
   "metadata": {},
   "outputs": [
    {
     "name": "stdout",
     "output_type": "stream",
     "text": [
      "all (148722, 13)\n",
      "pixel (69979, 16)\n"
     ]
    },
    {
     "data": {
      "text/html": [
       "<div>\n",
       "<style scoped>\n",
       "    .dataframe tbody tr th:only-of-type {\n",
       "        vertical-align: middle;\n",
       "    }\n",
       "\n",
       "    .dataframe tbody tr th {\n",
       "        vertical-align: top;\n",
       "    }\n",
       "\n",
       "    .dataframe thead th {\n",
       "        text-align: right;\n",
       "    }\n",
       "</style>\n",
       "<table border=\"1\" class=\"dataframe\">\n",
       "  <thead>\n",
       "    <tr style=\"text-align: right;\">\n",
       "      <th></th>\n",
       "      <th>measurement_id</th>\n",
       "      <th>geometry_id</th>\n",
       "      <th>local_key</th>\n",
       "      <th>local0</th>\n",
       "      <th>local1</th>\n",
       "      <th>phi</th>\n",
       "      <th>theta</th>\n",
       "      <th>time</th>\n",
       "      <th>var_local0</th>\n",
       "      <th>var_local1</th>\n",
       "      <th>var_phi</th>\n",
       "      <th>var_theta</th>\n",
       "      <th>var_time</th>\n",
       "      <th>volume</th>\n",
       "      <th>hit_id</th>\n",
       "      <th>particle_id</th>\n",
       "    </tr>\n",
       "  </thead>\n",
       "  <tbody>\n",
       "    <tr>\n",
       "      <th>0</th>\n",
       "      <td>0</td>\n",
       "      <td>1152921779484754177</td>\n",
       "      <td>\u0006</td>\n",
       "      <td>-4.925</td>\n",
       "      <td>-24.972519</td>\n",
       "      <td>0</td>\n",
       "      <td>0</td>\n",
       "      <td>0</td>\n",
       "      <td>0.000208</td>\n",
       "      <td>0.000208</td>\n",
       "      <td>0</td>\n",
       "      <td>0</td>\n",
       "      <td>0</td>\n",
       "      <td>16</td>\n",
       "      <td>0</td>\n",
       "      <td>891712726538190854</td>\n",
       "    </tr>\n",
       "    <tr>\n",
       "      <th>1</th>\n",
       "      <td>1</td>\n",
       "      <td>1152921779484754177</td>\n",
       "      <td>\u0006</td>\n",
       "      <td>3.225</td>\n",
       "      <td>-30.625000</td>\n",
       "      <td>0</td>\n",
       "      <td>0</td>\n",
       "      <td>0</td>\n",
       "      <td>0.000208</td>\n",
       "      <td>0.000208</td>\n",
       "      <td>0</td>\n",
       "      <td>0</td>\n",
       "      <td>0</td>\n",
       "      <td>16</td>\n",
       "      <td>1</td>\n",
       "      <td>882705527350493184</td>\n",
       "    </tr>\n",
       "  </tbody>\n",
       "</table>\n",
       "</div>"
      ],
      "text/plain": [
       "   measurement_id          geometry_id local_key  local0     local1  phi  \\\n",
       "0               0  1152921779484754177         \u0006  -4.925 -24.972519    0   \n",
       "1               1  1152921779484754177         \u0006   3.225 -30.625000    0   \n",
       "\n",
       "   theta  time  var_local0  var_local1  var_phi  var_theta  var_time  volume  \\\n",
       "0      0     0    0.000208    0.000208        0          0         0      16   \n",
       "1      0     0    0.000208    0.000208        0          0         0      16   \n",
       "\n",
       "   hit_id         particle_id  \n",
       "0       0  891712726538190854  \n",
       "1       1  882705527350493184  "
      ]
     },
     "execution_count": 81,
     "metadata": {},
     "output_type": "execute_result"
    }
   ],
   "source": [
    "measurements = pd.read_csv(base_path / \"digi/event000000000-measurements.csv\")\n",
    "print(\"all\",measurements.shape)\n",
    "measurements[\"volume\"] = measurements.geometry_id.map(lambda geoid: acts.GeometryIdentifier(geoid).volume())\n",
    "measurements[\"hit_id\"] = measurements.measurement_id.map(measId_to_hitID)\n",
    "measurements[\"particle_id\"] = measurements.hit_id.map(hitId_to_particleId)\n",
    "\n",
    "measurements_pixel = measurements[ measurements.volume.isin([16,17,18]) ].copy()\n",
    "print(\"pixel\",measurements_pixel.shape)\n",
    "measurements_pixel.head(2)"
   ]
  },
  {
   "cell_type": "code",
   "execution_count": 82,
   "id": "c2f906bb-3467-495b-89a5-4f1fbbb29e6c",
   "metadata": {},
   "outputs": [
    {
     "data": {
      "text/html": [
       "<div>\n",
       "<style scoped>\n",
       "    .dataframe tbody tr th:only-of-type {\n",
       "        vertical-align: middle;\n",
       "    }\n",
       "\n",
       "    .dataframe tbody tr th {\n",
       "        vertical-align: top;\n",
       "    }\n",
       "\n",
       "    .dataframe thead th {\n",
       "        text-align: right;\n",
       "    }\n",
       "</style>\n",
       "<table border=\"1\" class=\"dataframe\">\n",
       "  <thead>\n",
       "    <tr style=\"text-align: right;\">\n",
       "      <th></th>\n",
       "      <th>trackId</th>\n",
       "      <th>measurementId</th>\n",
       "      <th>x</th>\n",
       "      <th>y</th>\n",
       "      <th>z</th>\n",
       "      <th>hit_id</th>\n",
       "      <th>tx</th>\n",
       "      <th>ty</th>\n",
       "      <th>tz</th>\n",
       "      <th>geometry_id</th>\n",
       "      <th>particle_id</th>\n",
       "    </tr>\n",
       "  </thead>\n",
       "  <tbody>\n",
       "    <tr>\n",
       "      <th>0</th>\n",
       "      <td>0</td>\n",
       "      <td>3</td>\n",
       "      <td>75.975000</td>\n",
       "      <td>-8.125000</td>\n",
       "      <td>-1515.6</td>\n",
       "      <td>3</td>\n",
       "      <td>75.966911</td>\n",
       "      <td>-8.117891</td>\n",
       "      <td>-1515.599976</td>\n",
       "      <td>1152921779484754177</td>\n",
       "      <td>860187531394678784</td>\n",
       "    </tr>\n",
       "    <tr>\n",
       "      <th>1</th>\n",
       "      <td>0</td>\n",
       "      <td>2341</td>\n",
       "      <td>66.175000</td>\n",
       "      <td>-6.328211</td>\n",
       "      <td>-1315.6</td>\n",
       "      <td>2342</td>\n",
       "      <td>66.162704</td>\n",
       "      <td>-6.349545</td>\n",
       "      <td>-1315.599976</td>\n",
       "      <td>1152921916923707649</td>\n",
       "      <td>860187531394678784</td>\n",
       "    </tr>\n",
       "    <tr>\n",
       "      <th>2</th>\n",
       "      <td>0</td>\n",
       "      <td>4645</td>\n",
       "      <td>56.277414</td>\n",
       "      <td>-4.775001</td>\n",
       "      <td>-1115.6</td>\n",
       "      <td>4646</td>\n",
       "      <td>56.297218</td>\n",
       "      <td>-4.776989</td>\n",
       "      <td>-1115.599976</td>\n",
       "      <td>1152922054362661121</td>\n",
       "      <td>860187531394678784</td>\n",
       "    </tr>\n",
       "    <tr>\n",
       "      <th>3</th>\n",
       "      <td>0</td>\n",
       "      <td>6893</td>\n",
       "      <td>49.375000</td>\n",
       "      <td>-3.825001</td>\n",
       "      <td>-975.6</td>\n",
       "      <td>6894</td>\n",
       "      <td>49.388748</td>\n",
       "      <td>-3.810642</td>\n",
       "      <td>-975.599976</td>\n",
       "      <td>1152922191801614593</td>\n",
       "      <td>860187531394678784</td>\n",
       "    </tr>\n",
       "    <tr>\n",
       "      <th>4</th>\n",
       "      <td>0</td>\n",
       "      <td>9083</td>\n",
       "      <td>42.425003</td>\n",
       "      <td>-2.975000</td>\n",
       "      <td>-835.6</td>\n",
       "      <td>9084</td>\n",
       "      <td>42.435219</td>\n",
       "      <td>-2.973998</td>\n",
       "      <td>-835.599976</td>\n",
       "      <td>1152922329240568065</td>\n",
       "      <td>860187531394678784</td>\n",
       "    </tr>\n",
       "  </tbody>\n",
       "</table>\n",
       "</div>"
      ],
      "text/plain": [
       "   trackId  measurementId          x         y       z  hit_id         tx  \\\n",
       "0        0              3  75.975000 -8.125000 -1515.6       3  75.966911   \n",
       "1        0           2341  66.175000 -6.328211 -1315.6    2342  66.162704   \n",
       "2        0           4645  56.277414 -4.775001 -1115.6    4646  56.297218   \n",
       "3        0           6893  49.375000 -3.825001  -975.6    6894  49.388748   \n",
       "4        0           9083  42.425003 -2.975000  -835.6    9084  42.435219   \n",
       "\n",
       "         ty           tz          geometry_id         particle_id  \n",
       "0 -8.117891 -1515.599976  1152921779484754177  860187531394678784  \n",
       "1 -6.349545 -1315.599976  1152921916923707649  860187531394678784  \n",
       "2 -4.776989 -1115.599976  1152922054362661121  860187531394678784  \n",
       "3 -3.810642  -975.599976  1152922191801614593  860187531394678784  \n",
       "4 -2.973998  -835.599976  1152922329240568065  860187531394678784  "
      ]
     },
     "execution_count": 82,
     "metadata": {},
     "output_type": "execute_result"
    }
   ],
   "source": [
    "prototracks_list = [ df for id, df in prototracks.groupby(\"trackId\") ]\n",
    "prototracks_list[0]"
   ]
  },
  {
   "cell_type": "code",
   "execution_count": 83,
   "id": "394a7286-601c-4393-b877-ae906273b1b5",
   "metadata": {},
   "outputs": [
    {
     "data": {
      "text/plain": [
       "(<Figure size 1000x300 with 2 Axes>, array([<Axes: >, <Axes: >], dtype=object))"
      ]
     },
     "execution_count": 83,
     "metadata": {},
     "output_type": "execute_result"
    },
    {
     "data": {
      "image/png": "[encoded data removed]",
      "text/plain": [
       "<Figure size 1000x300 with 2 Axes>"
      ]
     },
     "metadata": {},
     "output_type": "display_data"
    }
   ],
   "source": [
    "plot_prototrack(prototracks_list[0])"
   ]
  },
  {
   "cell_type": "code",
   "execution_count": 120,
   "id": "114cab67-0466-416f-af88-b0bd0b8969a9",
   "metadata": {},
   "outputs": [
    {
     "data": {
      "text/plain": [
       "0.9630812921547746"
      ]
     },
     "execution_count": 120,
     "metadata": {},
     "output_type": "execute_result"
    }
   ],
   "source": [
    "poc_match_df = pd.read_csv(base_path / \"performance_proof_of_concept.csv\")\n",
    "poc_match_df = poc_match_df[ poc_match_df.event == 0 ].copy()\n",
    "sum(poc_match_df.matched)/len(poc_match_df)"
   ]
  },
  {
   "cell_type": "code",
   "execution_count": 122,
   "id": "aaac5a52-540c-4f85-9edd-738104e73a55",
   "metadata": {},
   "outputs": [],
   "source": [
    "poc_success_pids = poc_match_df[ poc_match_df.matched == 1 ].particle_id.to_numpy()\n",
    "poc_failed_pids = poc_match_df[ poc_match_df.matched == 0 ].particle_id.to_numpy()"
   ]
  },
  {
   "cell_type": "code",
   "execution_count": 87,
   "id": "d4e95b4a-60ac-455c-baff-e83854caf605",
   "metadata": {},
   "outputs": [
    {
     "data": {
      "text/plain": [
       "2713"
      ]
     },
     "execution_count": 87,
     "metadata": {},
     "output_type": "execute_result"
    }
   ],
   "source": [
    "# Remove particles that failed in proof of concept -> this should give pure GNN+CKF inefficiency\n",
    "assert len(poc_match_df) == len(matched_df)\n",
    "matched_df = matched_df[ matched_df.particle_id.isin(poc_success_pids) ].copy()\n",
    "len(matched_df)"
   ]
  },
  {
   "cell_type": "code",
   "execution_count": 88,
   "id": "76233e0b-8c53-4e77-b7f5-04c4aceeef07",
   "metadata": {},
   "outputs": [
    {
     "data": {
      "text/html": [
       "<div>\n",
       "<style scoped>\n",
       "    .dataframe tbody tr th:only-of-type {\n",
       "        vertical-align: middle;\n",
       "    }\n",
       "\n",
       "    .dataframe tbody tr th {\n",
       "        vertical-align: top;\n",
       "    }\n",
       "\n",
       "    .dataframe thead th {\n",
       "        text-align: right;\n",
       "    }\n",
       "</style>\n",
       "<table border=\"1\" class=\"dataframe\">\n",
       "  <thead>\n",
       "    <tr style=\"text-align: right;\">\n",
       "      <th></th>\n",
       "      <th>particle_id</th>\n",
       "      <th>nMeasPixel</th>\n",
       "      <th>nTrackIds</th>\n",
       "      <th>nUniqueTrackIds</th>\n",
       "      <th>majTrackId</th>\n",
       "      <th>foundMajTrackIds</th>\n",
       "      <th>totalMajTrackIds</th>\n",
       "      <th>pixel_track_eff</th>\n",
       "      <th>pixel_track_pur</th>\n",
       "    </tr>\n",
       "  </thead>\n",
       "  <tbody>\n",
       "    <tr>\n",
       "      <th>0</th>\n",
       "      <td>4503599644147712</td>\n",
       "      <td>7</td>\n",
       "      <td>7</td>\n",
       "      <td>1</td>\n",
       "      <td>3577.0</td>\n",
       "      <td>7.0</td>\n",
       "      <td>13.0</td>\n",
       "      <td>1.0</td>\n",
       "      <td>0.538462</td>\n",
       "    </tr>\n",
       "    <tr>\n",
       "      <th>1</th>\n",
       "      <td>4503599811919872</td>\n",
       "      <td>4</td>\n",
       "      <td>4</td>\n",
       "      <td>1</td>\n",
       "      <td>3266.0</td>\n",
       "      <td>4.0</td>\n",
       "      <td>6.0</td>\n",
       "      <td>1.0</td>\n",
       "      <td>0.666667</td>\n",
       "    </tr>\n",
       "    <tr>\n",
       "      <th>2</th>\n",
       "      <td>4503600516562944</td>\n",
       "      <td>10</td>\n",
       "      <td>10</td>\n",
       "      <td>1</td>\n",
       "      <td>3810.0</td>\n",
       "      <td>10.0</td>\n",
       "      <td>16.0</td>\n",
       "      <td>1.0</td>\n",
       "      <td>0.625000</td>\n",
       "    </tr>\n",
       "  </tbody>\n",
       "</table>\n",
       "</div>"
      ],
      "text/plain": [
       "        particle_id  nMeasPixel  nTrackIds  nUniqueTrackIds  majTrackId  \\\n",
       "0  4503599644147712           7          7                1      3577.0   \n",
       "1  4503599811919872           4          4                1      3266.0   \n",
       "2  4503600516562944          10         10                1      3810.0   \n",
       "\n",
       "   foundMajTrackIds  totalMajTrackIds  pixel_track_eff  pixel_track_pur  \n",
       "0               7.0              13.0              1.0         0.538462  \n",
       "1               4.0               6.0              1.0         0.666667  \n",
       "2              10.0              16.0              1.0         0.625000  "
      ]
     },
     "execution_count": 88,
     "metadata": {},
     "output_type": "execute_result"
    }
   ],
   "source": [
    "not_matched = matched_df[ matched_df.matched == 0 ].copy()\n",
    "\n",
    "df = pd.DataFrame()\n",
    "\n",
    "for pid in not_matched.particle_id.to_numpy():\n",
    "    info = {}\n",
    "\n",
    "    info[\"particle_id\"] = pid\n",
    "    \n",
    "    trkMeasurements = measurements_pixel[ measurements_pixel.particle_id == pid ]\n",
    "    info[\"nMeasPixel\"] = len(trkMeasurements)\n",
    "    \n",
    "    trackIds = prototracks[ prototracks.particle_id == pid ].trackId.to_numpy()\n",
    "    info[\"nTrackIds\"] = len(trackIds)\n",
    "\n",
    "    trackIds, count = np.unique(trackIds, return_counts=True)\n",
    "    info[\"nUniqueTrackIds\"] = len(trackIds)\n",
    "\n",
    "    if len(trackIds) > 0:\n",
    "        info[\"majTrackId\"] = trackIds[np.argmax(count)]\n",
    "        info[\"foundMajTrackIds\"] = max(count)\n",
    "\n",
    "        info[\"totalMajTrackIds\"] = len(prototracks[ prototracks.trackId == info[\"majTrackId\"] ])\n",
    "    \n",
    "    \n",
    "    for k in info.keys():\n",
    "        info[k] = [ info[k] ]\n",
    "    \n",
    "    df = pd.concat([df, pd.DataFrame(info)])\n",
    "\n",
    "df = df.reset_index(drop=True)\n",
    "df[\"pixel_track_eff\"] = df.foundMajTrackIds / df.nMeasPixel\n",
    "df[\"pixel_track_pur\"] = df.foundMajTrackIds / df.totalMajTrackIds\n",
    "df.head(3)"
   ]
  },
  {
   "cell_type": "code",
   "execution_count": 89,
   "id": "820921f2-6697-456c-b4e3-91121268ffbf",
   "metadata": {},
   "outputs": [
    {
     "data": {
      "image/png": "[encoded data removed]",
      "text/plain": [
       "<Figure size 1500x300 with 6 Axes>"
      ]
     },
     "metadata": {},
     "output_type": "display_data"
    }
   ],
   "source": [
    "fig, ax = plt.subplots(1,6,figsize=(15,3))\n",
    "\n",
    "ax[0].bar(*np.unique(df.nMeasPixel, return_counts=True))\n",
    "ax[0].set_title(\"# total hits in pixel\")\n",
    "ax[0].set_ylabel(\"particle count\")\n",
    "ax[0].set_xticks(np.arange(min(df.nMeasPixel), 10))\n",
    "\n",
    "ax[1].bar(*np.unique(df.nTrackIds, return_counts=True))\n",
    "ax[1].set_title(\"# found hits in pixel\\n(in all prototracks)\")\n",
    "ax[1].set_ylabel(\"particle count\")\n",
    "ax[1].set_xticks(np.arange(min(df.nTrackIds), 10))\n",
    "\n",
    "ax[2].bar(*np.unique(df.foundMajTrackIds, return_counts=True))\n",
    "ax[2].set_title(\"# found hits in pixel\\n(in maj prototrack)\")\n",
    "ax[2].set_ylabel(\"particle count\")\n",
    "ax[2].set_xticks(np.arange(min(df.foundMajTrackIds), 10))\n",
    "\n",
    "ax[3].bar(*np.unique(df.nUniqueTrackIds, return_counts=True))\n",
    "ax[3].set_title(\"prototracks per particle\")\n",
    "ax[3].set_ylabel(\"particle count\")\n",
    "ax[3].set_xticks(np.arange(min(df.nUniqueTrackIds), max(df.nUniqueTrackIds)+1))\n",
    "\n",
    "nFinite = sum(np.isfinite(df.pixel_track_pur))\n",
    "ax[4].hist(df.pixel_track_pur, bins=20, alpha=0.5)\n",
    "ax[4].set_title(\"maj track pur in pixel\")\n",
    "ax[4].text(0.1,0.6, \"applicable to\\n{} particles\\n({:.2%})\".format(nFinite, nFinite/len(df)), transform=ax[4].transAxes)\n",
    "ax[4].set_ylabel(\"particle count\")\n",
    "ax[4].set_xlim(0,1)\n",
    "\n",
    "nFinite = sum(np.isfinite(df.pixel_track_eff))\n",
    "ax[5].hist(df.pixel_track_eff, bins=20, alpha=0.5)\n",
    "ax[5].set_title(\"maj track eff in pixel\")\n",
    "ax[5].text(0.1,0.6, \"applicable to\\n{} particles\\n({:.2%})\".format(nFinite, nFinite/len(df)), transform=ax[5].transAxes)\n",
    "ax[5].set_ylabel(\"particle count\")\n",
    "ax[5].set_xlim(0,1)\n",
    "\n",
    "fig.suptitle(\n",
    "\"{}\\n\"\n",
    "\"Statistics for particles NOT matched in CKF performance writer \"\n",
    "\"BUT matched in proof of concept \\n({}/{}, {:.2%})\".format(str(base_path),\n",
    "                                                           len(not_matched),\n",
    "                                                           len(matched_df),\n",
    "                                                           len(not_matched)/len(matched_df))\n",
    ")\n",
    "fig.tight_layout()"
   ]
  },
  {
   "cell_type": "code",
   "execution_count": 91,
   "id": "ddf64243-20a8-40ff-92b0-789662e0e13c",
   "metadata": {},
   "outputs": [],
   "source": [
    "df[\"eta\"] = df.particle_id.map(dict(zip(particles.particle_id, particles.eta)))\n",
    "df[\"pt\"] = df.particle_id.map(dict(zip(particles.particle_id, particles.pt)))\n",
    "df[\"pix_nhits\"] = df.particle_id.map(dict(measurements[ measurements.volume.isin([16,17,18]) ].groupby(\"particle_id\").count().hit_id))"
   ]
  },
  {
   "cell_type": "code",
   "execution_count": 92,
   "id": "92c72cd6-bc91-4765-afa9-d8be4d300f3c",
   "metadata": {},
   "outputs": [
    {
     "data": {
      "image/png": "[encoded data removed]",
      "text/plain": [
       "<Figure size 1000x300 with 2 Axes>"
      ]
     },
     "metadata": {},
     "output_type": "display_data"
    }
   ],
   "source": [
    "fig, ax = plt.subplots(1,2,figsize=(10,3))\n",
    "\n",
    "ax[0].hist(df.eta, bins=15, range=(-4,4))\n",
    "ax[0].set_xlabel(\"$\\eta$\")\n",
    "ax[1].hist(np.clip(df.pt,0,5), bins=30, range=(0,5))\n",
    "ax[1].set_xlabel(\"pT\")\n",
    "#ax[2].bar(*np.unique(df.pix_nhits, return_counts=True))\n",
    "#ax[2].set_xlabel(\"pixel nHits\")\n",
    "#ax[2].set_xticks(np.arange(10))\n",
    "#ax[3].bar(*np.unique(df.nTrackIds, return_counts=True))\n",
    "#ax[3].set_xlabel(\"associated proto track length\")\n",
    "#ax[3].set_xticks(np.arange(10))\n",
    "\n",
    "fig.suptitle(f\"{base_path}\\nNOT matched, but matched in proof of concept ({len(df)} entries)\")\n",
    "fig.tight_layout()"
   ]
  },
  {
   "cell_type": "code",
   "execution_count": 93,
   "id": "2013f921-de03-4e47-b463-838f090a870c",
   "metadata": {},
   "outputs": [
    {
     "data": {
      "text/plain": [
       "(330, 104)"
      ]
     },
     "execution_count": 93,
     "metadata": {},
     "output_type": "execute_result"
    }
   ],
   "source": [
    "sum(df.pt > 0.5), sum(df.pt > 1.0)"
   ]
  },
  {
   "cell_type": "code",
   "execution_count": 94,
   "id": "269e1bbc-2bb7-4da9-96a7-c684ec457fc9",
   "metadata": {},
   "outputs": [
    {
     "data": {
      "text/plain": [
       "('Number of umatched with 100% pur and efficient prototrack', 0)"
      ]
     },
     "execution_count": 94,
     "metadata": {},
     "output_type": "execute_result"
    }
   ],
   "source": [
    "\"Number of umatched with 100% pur and efficient prototrack\", len(df[ (df.pixel_track_eff == 1.0) & (df.pixel_track_pur == 1.0) ])"
   ]
  },
  {
   "cell_type": "code",
   "execution_count": null,
   "id": "920878c8-44f1-45ea-bcf2-50d2de3762ae",
   "metadata": {},
   "outputs": [],
   "source": []
  },
  {
   "cell_type": "code",
   "execution_count": null,
   "id": "e93fe847-a829-4527-aa05-69c772c46df0",
   "metadata": {},
   "outputs": [],
   "source": []
  },
  {
   "cell_type": "code",
   "execution_count": null,
   "id": "e1f41906-13de-4d03-8dbf-657a48b63304",
   "metadata": {},
   "outputs": [],
   "source": []
  },
  {
   "cell_type": "code",
   "execution_count": null,
   "id": "d6346d84-9cbe-4812-a892-fe78c2a82206",
   "metadata": {},
   "outputs": [],
   "source": []
  }
 ],
 "metadata": {
  "kernelspec": {
   "display_name": "Python 3 (ipykernel)",
   "language": "python",
   "name": "python3"
  },
  "language_info": {
   "codemirror_mode": {
    "name": "ipython",
    "version": 3
   },
   "file_extension": ".py",
   "mimetype": "text/x-python",
   "name": "python",
   "nbconvert_exporter": "python",
   "pygments_lexer": "ipython3",
   "version": "3.10.12"
  }
 },
 "nbformat": 4,
 "nbformat_minor": 5
}
