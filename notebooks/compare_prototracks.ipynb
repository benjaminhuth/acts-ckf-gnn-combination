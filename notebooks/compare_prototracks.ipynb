{
 "cells": [
  {
   "cell_type": "code",
   "execution_count": 1,
   "id": "5a2b2a1e-6db0-4a93-a22e-4c3f6fa62e91",
   "metadata": {},
   "outputs": [],
   "source": [
    "import pandas as pd\n",
    "import matplotlib.pyplot as plt\n",
    "import matplotlib.colors\n",
    "import numpy as np\n",
    "import uproot\n",
    "import logging"
   ]
  },
  {
   "cell_type": "code",
   "execution_count": 2,
   "id": "46dc5925-b0e9-4d7b-89a8-16018ce9bb03",
   "metadata": {},
   "outputs": [],
   "source": [
    "hits = uproot.open(\"../10events/hits.root:hits\").arrays(library=\"pd\")\n",
    "hits = hits[ (hits.event_id == 0) & (hits.tt < 25.0) ].copy()\n",
    "hits[\"hit_id\"] = np.arange(len(hits))\n",
    "hitId_to_particleId = dict(zip(hits.hit_id, hits.particle_id))\n",
    "\n",
    "simhit_map = pd.read_csv(\"../output/gnn_ckf_no_threshold/digi/event000000000-measurement-simhit-map.csv\")\n",
    "measId_to_hitID = dict(zip(simhit_map.measurement_id, simhit_map.hit_id))"
   ]
  },
  {
   "cell_type": "code",
   "execution_count": 3,
   "id": "e0a1ba4a-cc5b-4f9b-adf3-96cacb184e7a",
   "metadata": {},
   "outputs": [],
   "source": [
    "matches_gnn_plus_ckf = pd.read_csv(\"../output/gnn_ckf_no_threshold/performance_gnn_plus_ckf.csv\")\n",
    "matches_gnn_plus_ckf = matches_gnn_plus_ckf[ matches_gnn_plus_ckf.event == 0 ]\n",
    "prototracks_gnn_plus_ckf = pd.read_csv(\"../output/gnn_ckf_no_threshold/gnn_plus_ckf/event000000000-prototracks.csv\")\n",
    "prototracks_gnn_plus_ckf[\"hit_id\"] = prototracks_gnn_plus_ckf[\"measurementId\"].map(measId_to_hitID)\n",
    "prototracks_gnn_plus_ckf[\"particle_id\"] = prototracks_gnn_plus_ckf.hit_id.map(hitId_to_particleId)"
   ]
  },
  {
   "cell_type": "code",
   "execution_count": 4,
   "id": "d3d2e64b-72f1-4286-bc71-fe7a489c576c",
   "metadata": {},
   "outputs": [
    {
     "data": {
      "text/plain": [
       "(2387, 208)"
      ]
     },
     "execution_count": 4,
     "metadata": {},
     "output_type": "execute_result"
    }
   ],
   "source": [
    "sum(matches_gnn_plus_ckf.matched), sum(np.logical_not(matches_gnn_plus_ckf.matched))"
   ]
  },
  {
   "cell_type": "code",
   "execution_count": 5,
   "id": "432f33ff-a06d-4787-b2e6-a3463ea6aa42",
   "metadata": {},
   "outputs": [],
   "source": [
    "matches_proof_of_concept = pd.read_csv(\"../output/gnn_ckf_no_threshold/performance_proof_of_concept.csv\")\n",
    "matches_proof_of_concept = matches_proof_of_concept[ matches_proof_of_concept.event == 0 ]\n",
    "prototracks_proof_of_concept = pd.read_csv(\"../output/gnn_ckf_no_threshold/proof_of_concept/event000000000-prototracks.csv\")\n",
    "prototracks_proof_of_concept[\"hit_id\"] = prototracks_proof_of_concept[\"measurementId\"].map(measId_to_hitID)\n",
    "prototracks_proof_of_concept[\"particle_id\"] = prototracks_proof_of_concept.hit_id.map(hitId_to_particleId)"
   ]
  },
  {
   "cell_type": "code",
   "execution_count": 6,
   "id": "5489c234-6248-477b-902b-37c634d70e25",
   "metadata": {},
   "outputs": [
    {
     "data": {
      "text/plain": [
       "(2713, 17)"
      ]
     },
     "execution_count": 6,
     "metadata": {},
     "output_type": "execute_result"
    }
   ],
   "source": [
    "sum(matches_proof_of_concept.matched), sum(np.logical_not(matches_proof_of_concept.matched))"
   ]
  },
  {
   "cell_type": "code",
   "execution_count": 7,
   "id": "a496d8fd-bed3-4bb2-be20-615fc10cb6ff",
   "metadata": {},
   "outputs": [
    {
     "data": {
      "text/plain": [
       "((16376, 7), (29825, 7))"
      ]
     },
     "execution_count": 7,
     "metadata": {},
     "output_type": "execute_result"
    }
   ],
   "source": [
    "prototracks_proof_of_concept.shape, prototracks_gnn_plus_ckf.shape"
   ]
  },
  {
   "cell_type": "code",
   "execution_count": 8,
   "id": "0d6a4c60-fa71-48bb-868a-92b3c29cda8c",
   "metadata": {},
   "outputs": [],
   "source": [
    "test_pid = matches_gnn_plus_ckf[ matches_gnn_plus_ckf.matched == 0 ][\"particle_id\"].to_numpy()[0]"
   ]
  },
  {
   "cell_type": "code",
   "execution_count": 9,
   "id": "1afcd2f0-95e8-4c1d-a189-35176340ec77",
   "metadata": {},
   "outputs": [
    {
     "data": {
      "text/html": [
       "<div>\n",
       "<style scoped>\n",
       "    .dataframe tbody tr th:only-of-type {\n",
       "        vertical-align: middle;\n",
       "    }\n",
       "\n",
       "    .dataframe tbody tr th {\n",
       "        vertical-align: top;\n",
       "    }\n",
       "\n",
       "    .dataframe thead th {\n",
       "        text-align: right;\n",
       "    }\n",
       "</style>\n",
       "<table border=\"1\" class=\"dataframe\">\n",
       "  <thead>\n",
       "    <tr style=\"text-align: right;\">\n",
       "      <th></th>\n",
       "      <th>trackId</th>\n",
       "      <th>measurementId</th>\n",
       "      <th>x</th>\n",
       "      <th>y</th>\n",
       "      <th>z</th>\n",
       "      <th>hit_id</th>\n",
       "      <th>particle_id</th>\n",
       "    </tr>\n",
       "  </thead>\n",
       "  <tbody>\n",
       "    <tr>\n",
       "      <th>4499</th>\n",
       "      <td>688</td>\n",
       "      <td>24787</td>\n",
       "      <td>-5.865470</td>\n",
       "      <td>31.479707</td>\n",
       "      <td>121.704681</td>\n",
       "      <td>24794</td>\n",
       "      <td>4503599811919872</td>\n",
       "    </tr>\n",
       "    <tr>\n",
       "      <th>4500</th>\n",
       "      <td>688</td>\n",
       "      <td>25647</td>\n",
       "      <td>-6.159220</td>\n",
       "      <td>33.203372</td>\n",
       "      <td>126.914408</td>\n",
       "      <td>25654</td>\n",
       "      <td>4503599811919872</td>\n",
       "    </tr>\n",
       "    <tr>\n",
       "      <th>4502</th>\n",
       "      <td>688</td>\n",
       "      <td>38870</td>\n",
       "      <td>-11.837094</td>\n",
       "      <td>67.356497</td>\n",
       "      <td>229.971654</td>\n",
       "      <td>38880</td>\n",
       "      <td>4503599811919872</td>\n",
       "    </tr>\n",
       "    <tr>\n",
       "      <th>4503</th>\n",
       "      <td>688</td>\n",
       "      <td>40056</td>\n",
       "      <td>-18.303795</td>\n",
       "      <td>112.239380</td>\n",
       "      <td>364.746514</td>\n",
       "      <td>40068</td>\n",
       "      <td>4503599811919872</td>\n",
       "    </tr>\n",
       "  </tbody>\n",
       "</table>\n",
       "</div>"
      ],
      "text/plain": [
       "      trackId  measurementId          x           y           z  hit_id  \\\n",
       "4499      688          24787  -5.865470   31.479707  121.704681   24794   \n",
       "4500      688          25647  -6.159220   33.203372  126.914408   25654   \n",
       "4502      688          38870 -11.837094   67.356497  229.971654   38880   \n",
       "4503      688          40056 -18.303795  112.239380  364.746514   40068   \n",
       "\n",
       "           particle_id  \n",
       "4499  4503599811919872  \n",
       "4500  4503599811919872  \n",
       "4502  4503599811919872  \n",
       "4503  4503599811919872  "
      ]
     },
     "execution_count": 9,
     "metadata": {},
     "output_type": "execute_result"
    }
   ],
   "source": [
    "prototracks_gnn_plus_ckf[ prototracks_gnn_plus_ckf.particle_id == test_pid ]"
   ]
  },
  {
   "cell_type": "code",
   "execution_count": 10,
   "id": "6f0d3244-57c3-4d26-b2cc-63d49f7f926e",
   "metadata": {},
   "outputs": [
    {
     "data": {
      "text/html": [
       "<div>\n",
       "<style scoped>\n",
       "    .dataframe tbody tr th:only-of-type {\n",
       "        vertical-align: middle;\n",
       "    }\n",
       "\n",
       "    .dataframe tbody tr th {\n",
       "        vertical-align: top;\n",
       "    }\n",
       "\n",
       "    .dataframe thead th {\n",
       "        text-align: right;\n",
       "    }\n",
       "</style>\n",
       "<table border=\"1\" class=\"dataframe\">\n",
       "  <thead>\n",
       "    <tr style=\"text-align: right;\">\n",
       "      <th></th>\n",
       "      <th>trackId</th>\n",
       "      <th>measurementId</th>\n",
       "      <th>x</th>\n",
       "      <th>y</th>\n",
       "      <th>z</th>\n",
       "      <th>hit_id</th>\n",
       "      <th>particle_id</th>\n",
       "    </tr>\n",
       "  </thead>\n",
       "  <tbody>\n",
       "    <tr>\n",
       "      <th>47</th>\n",
       "      <td>7</td>\n",
       "      <td>24787</td>\n",
       "      <td>-5.865470</td>\n",
       "      <td>31.479707</td>\n",
       "      <td>121.704681</td>\n",
       "      <td>24794</td>\n",
       "      <td>4503599811919872</td>\n",
       "    </tr>\n",
       "    <tr>\n",
       "      <th>48</th>\n",
       "      <td>7</td>\n",
       "      <td>25647</td>\n",
       "      <td>-6.159220</td>\n",
       "      <td>33.203372</td>\n",
       "      <td>126.914408</td>\n",
       "      <td>25654</td>\n",
       "      <td>4503599811919872</td>\n",
       "    </tr>\n",
       "    <tr>\n",
       "      <th>49</th>\n",
       "      <td>7</td>\n",
       "      <td>38870</td>\n",
       "      <td>-11.837094</td>\n",
       "      <td>67.356497</td>\n",
       "      <td>229.971654</td>\n",
       "      <td>38880</td>\n",
       "      <td>4503599811919872</td>\n",
       "    </tr>\n",
       "    <tr>\n",
       "      <th>50</th>\n",
       "      <td>7</td>\n",
       "      <td>40056</td>\n",
       "      <td>-18.303795</td>\n",
       "      <td>112.239380</td>\n",
       "      <td>364.746514</td>\n",
       "      <td>40068</td>\n",
       "      <td>4503599811919872</td>\n",
       "    </tr>\n",
       "  </tbody>\n",
       "</table>\n",
       "</div>"
      ],
      "text/plain": [
       "    trackId  measurementId          x           y           z  hit_id  \\\n",
       "47        7          24787  -5.865470   31.479707  121.704681   24794   \n",
       "48        7          25647  -6.159220   33.203372  126.914408   25654   \n",
       "49        7          38870 -11.837094   67.356497  229.971654   38880   \n",
       "50        7          40056 -18.303795  112.239380  364.746514   40068   \n",
       "\n",
       "         particle_id  \n",
       "47  4503599811919872  \n",
       "48  4503599811919872  \n",
       "49  4503599811919872  \n",
       "50  4503599811919872  "
      ]
     },
     "execution_count": 10,
     "metadata": {},
     "output_type": "execute_result"
    }
   ],
   "source": [
    "prototracks_proof_of_concept[ prototracks_proof_of_concept.particle_id == test_pid ]"
   ]
  },
  {
   "cell_type": "code",
   "execution_count": 11,
   "id": "cb90b1d5-f09b-4e00-9ddc-bc20967bf699",
   "metadata": {},
   "outputs": [],
   "source": [
    "equal = []\n",
    "\n",
    "for pid in matches_gnn_plus_ckf[ matches_gnn_plus_ckf.matched == 0 ][\"particle_id\"]:\n",
    "    test = prototracks_gnn_plus_ckf[ prototracks_gnn_plus_ckf.particle_id == pid ]\n",
    "    ref = prototracks_proof_of_concept[ prototracks_proof_of_concept.particle_id == pid ]\n",
    "\n",
    "    if len(test) == len(ref): \n",
    "        equal.append(all(test.measurementId.to_numpy() == ref.measurementId.to_numpy()))\n",
    "    else:\n",
    "        equal.append(False)"
   ]
  },
  {
   "cell_type": "code",
   "execution_count": 12,
   "id": "e4e4ca10-1a31-4086-ad81-f504f19edf0e",
   "metadata": {},
   "outputs": [
    {
     "data": {
      "text/plain": [
       "0.6682692307692307"
      ]
     },
     "execution_count": 12,
     "metadata": {},
     "output_type": "execute_result"
    }
   ],
   "source": [
    "sum(equal)/len(equal)"
   ]
  },
  {
   "cell_type": "code",
   "execution_count": 13,
   "id": "9fa7c89c-7491-4a45-9072-db30b51aaf2b",
   "metadata": {},
   "outputs": [
    {
     "data": {
      "text/plain": [
       "139"
      ]
     },
     "execution_count": 13,
     "metadata": {},
     "output_type": "execute_result"
    }
   ],
   "source": [
    "sum(equal)"
   ]
  },
  {
   "cell_type": "code",
   "execution_count": 14,
   "id": "669ff208-8a7f-4af4-9b59-e74b30e641e3",
   "metadata": {},
   "outputs": [
    {
     "data": {
      "image/png": "[encoded data removed]",
      "text/plain": [
       "<Figure size 640x480 with 1 Axes>"
      ]
     },
     "metadata": {},
     "output_type": "display_data"
    }
   ],
   "source": [
    "_ = plt.hist(np.array(equal).astype(int))"
   ]
  },
  {
   "cell_type": "code",
   "execution_count": 15,
   "id": "54679358-c90c-4d9c-a2c2-38a581b4589f",
   "metadata": {},
   "outputs": [
    {
     "data": {
      "text/plain": [
       "(4910, 4910)"
      ]
     },
     "execution_count": 15,
     "metadata": {},
     "output_type": "execute_result"
    }
   ],
   "source": [
    "parameters_gnn_plus_ckf = pd.read_csv(\"../output/gnn_ckf_no_threshold/gnn_plus_ckf/event000000000-parameters\")\n",
    "len(parameters_gnn_plus_ckf), len(np.unique(prototracks_gnn_plus_ckf.trackId))"
   ]
  },
  {
   "cell_type": "code",
   "execution_count": 16,
   "id": "08575ecf-c49c-4819-80c0-b975ddc92fa5",
   "metadata": {},
   "outputs": [
    {
     "data": {
      "text/plain": [
       "(2787, 2787)"
      ]
     },
     "execution_count": 16,
     "metadata": {},
     "output_type": "execute_result"
    }
   ],
   "source": [
    "parameters_proof_of_concept = pd.read_csv(\"../output/gnn_ckf_no_threshold/proof_of_concept/event000000000-parameters\")\n",
    "len(parameters_proof_of_concept), len(np.unique(prototracks_proof_of_concept.trackId))"
   ]
  },
  {
   "cell_type": "code",
   "execution_count": 35,
   "id": "038043e1-39dc-4f8e-9644-fc9873a4d40b",
   "metadata": {},
   "outputs": [],
   "source": [
    "gnn_plus_ckf_dict = { \n",
    "    sum(t.measurementId): (p, t.sort_values(\"hit_id\")) \n",
    "    for (_, t), (_, p) in zip(prototracks_gnn_plus_ckf.groupby(\"trackId\"), parameters_gnn_plus_ckf.iterrows())\n",
    "}"
   ]
  },
  {
   "cell_type": "code",
   "execution_count": 36,
   "id": "1930a010-1fb7-482c-94d5-8320f88af814",
   "metadata": {},
   "outputs": [],
   "source": [
    "proof_of_concept_dict = { \n",
    "    sum(t.measurementId): (p, t.sort_values(\"hit_id\")) \n",
    "    for (_, t), (_, p) in zip(prototracks_proof_of_concept.groupby(\"trackId\"), parameters_proof_of_concept.iterrows())\n",
    "}"
   ]
  },
  {
   "cell_type": "code",
   "execution_count": 37,
   "id": "a2219f0f-414d-4f5e-87e9-380d59e06cde",
   "metadata": {},
   "outputs": [
    {
     "data": {
      "text/plain": [
       "2132"
      ]
     },
     "execution_count": 37,
     "metadata": {},
     "output_type": "execute_result"
    }
   ],
   "source": [
    "common_keys = np.intersect1d(list(gnn_plus_ckf_dict.keys()), list(proof_of_concept_dict.keys()))\n",
    "len(common_keys)"
   ]
  },
  {
   "cell_type": "code",
   "execution_count": 38,
   "id": "6298a229-3e9e-4731-a412-e7e6560ea3c2",
   "metadata": {},
   "outputs": [
    {
     "data": {
      "text/html": [
       "<div>\n",
       "<style scoped>\n",
       "    .dataframe tbody tr th:only-of-type {\n",
       "        vertical-align: middle;\n",
       "    }\n",
       "\n",
       "    .dataframe tbody tr th {\n",
       "        vertical-align: top;\n",
       "    }\n",
       "\n",
       "    .dataframe thead th {\n",
       "        text-align: right;\n",
       "    }\n",
       "</style>\n",
       "<table border=\"1\" class=\"dataframe\">\n",
       "  <thead>\n",
       "    <tr style=\"text-align: right;\">\n",
       "      <th></th>\n",
       "      <th>trackId</th>\n",
       "      <th>measurementId</th>\n",
       "      <th>x</th>\n",
       "      <th>y</th>\n",
       "      <th>z</th>\n",
       "      <th>hit_id</th>\n",
       "      <th>particle_id</th>\n",
       "    </tr>\n",
       "  </thead>\n",
       "  <tbody>\n",
       "    <tr>\n",
       "      <th>25190</th>\n",
       "      <td>4048</td>\n",
       "      <td>103</td>\n",
       "      <td>62.668619</td>\n",
       "      <td>13.297949</td>\n",
       "      <td>-1516.8</td>\n",
       "      <td>103</td>\n",
       "      <td>310748374355673088</td>\n",
       "    </tr>\n",
       "    <tr>\n",
       "      <th>25189</th>\n",
       "      <td>4048</td>\n",
       "      <td>2442</td>\n",
       "      <td>54.192461</td>\n",
       "      <td>11.285588</td>\n",
       "      <td>-1316.8</td>\n",
       "      <td>2443</td>\n",
       "      <td>310748374355673088</td>\n",
       "    </tr>\n",
       "    <tr>\n",
       "      <th>25188</th>\n",
       "      <td>4048</td>\n",
       "      <td>4750</td>\n",
       "      <td>45.622567</td>\n",
       "      <td>9.299874</td>\n",
       "      <td>-1116.8</td>\n",
       "      <td>4751</td>\n",
       "      <td>310748374355673088</td>\n",
       "    </tr>\n",
       "  </tbody>\n",
       "</table>\n",
       "</div>"
      ],
      "text/plain": [
       "       trackId  measurementId          x          y       z  hit_id  \\\n",
       "25190     4048            103  62.668619  13.297949 -1516.8     103   \n",
       "25189     4048           2442  54.192461  11.285588 -1316.8    2443   \n",
       "25188     4048           4750  45.622567   9.299874 -1116.8    4751   \n",
       "\n",
       "              particle_id  \n",
       "25190  310748374355673088  \n",
       "25189  310748374355673088  \n",
       "25188  310748374355673088  "
      ]
     },
     "execution_count": 38,
     "metadata": {},
     "output_type": "execute_result"
    }
   ],
   "source": [
    "gnn_plus_ckf_dict[common_keys[0]][1]"
   ]
  },
  {
   "cell_type": "code",
   "execution_count": 39,
   "id": "b6d9a8b9-212c-4a8a-bcf6-82d89e6934b1",
   "metadata": {},
   "outputs": [
    {
     "data": {
      "text/html": [
       "<div>\n",
       "<style scoped>\n",
       "    .dataframe tbody tr th:only-of-type {\n",
       "        vertical-align: middle;\n",
       "    }\n",
       "\n",
       "    .dataframe tbody tr th {\n",
       "        vertical-align: top;\n",
       "    }\n",
       "\n",
       "    .dataframe thead th {\n",
       "        text-align: right;\n",
       "    }\n",
       "</style>\n",
       "<table border=\"1\" class=\"dataframe\">\n",
       "  <thead>\n",
       "    <tr style=\"text-align: right;\">\n",
       "      <th></th>\n",
       "      <th>trackId</th>\n",
       "      <th>measurementId</th>\n",
       "      <th>x</th>\n",
       "      <th>y</th>\n",
       "      <th>z</th>\n",
       "      <th>hit_id</th>\n",
       "      <th>particle_id</th>\n",
       "    </tr>\n",
       "  </thead>\n",
       "  <tbody>\n",
       "    <tr>\n",
       "      <th>6346</th>\n",
       "      <td>1099</td>\n",
       "      <td>103</td>\n",
       "      <td>62.668619</td>\n",
       "      <td>13.297949</td>\n",
       "      <td>-1516.8</td>\n",
       "      <td>103</td>\n",
       "      <td>310748374355673088</td>\n",
       "    </tr>\n",
       "    <tr>\n",
       "      <th>6347</th>\n",
       "      <td>1099</td>\n",
       "      <td>2442</td>\n",
       "      <td>54.192461</td>\n",
       "      <td>11.285588</td>\n",
       "      <td>-1316.8</td>\n",
       "      <td>2443</td>\n",
       "      <td>310748374355673088</td>\n",
       "    </tr>\n",
       "    <tr>\n",
       "      <th>6348</th>\n",
       "      <td>1099</td>\n",
       "      <td>4750</td>\n",
       "      <td>45.622567</td>\n",
       "      <td>9.299874</td>\n",
       "      <td>-1116.8</td>\n",
       "      <td>4751</td>\n",
       "      <td>310748374355673088</td>\n",
       "    </tr>\n",
       "  </tbody>\n",
       "</table>\n",
       "</div>"
      ],
      "text/plain": [
       "      trackId  measurementId          x          y       z  hit_id  \\\n",
       "6346     1099            103  62.668619  13.297949 -1516.8     103   \n",
       "6347     1099           2442  54.192461  11.285588 -1316.8    2443   \n",
       "6348     1099           4750  45.622567   9.299874 -1116.8    4751   \n",
       "\n",
       "             particle_id  \n",
       "6346  310748374355673088  \n",
       "6347  310748374355673088  \n",
       "6348  310748374355673088  "
      ]
     },
     "execution_count": 39,
     "metadata": {},
     "output_type": "execute_result"
    }
   ],
   "source": [
    "proof_of_concept_dict[common_keys[0]][1]"
   ]
  },
  {
   "cell_type": "code",
   "execution_count": 42,
   "id": "f5907efc-b857-4df3-b7b5-a5d57192cb70",
   "metadata": {},
   "outputs": [
    {
     "data": {
      "text/plain": [
       "d0        2.825001\n",
       "z0      -29.525000\n",
       "phi       0.224973\n",
       "theta     3.097849\n",
       "qop      -0.045028\n",
       "Name: 4048, dtype: float64"
      ]
     },
     "execution_count": 42,
     "metadata": {},
     "output_type": "execute_result"
    }
   ],
   "source": [
    "gnn_plus_ckf_dict[common_keys[0]][0][:5]"
   ]
  },
  {
   "cell_type": "code",
   "execution_count": 43,
   "id": "816ae4cb-d8cc-43ad-9527-c6b846977fb9",
   "metadata": {},
   "outputs": [
    {
     "data": {
      "text/plain": [
       "d0        2.825001\n",
       "z0      -29.525000\n",
       "phi       0.224973\n",
       "theta     3.097849\n",
       "qop      -0.045028\n",
       "Name: 1099, dtype: float64"
      ]
     },
     "execution_count": 43,
     "metadata": {},
     "output_type": "execute_result"
    }
   ],
   "source": [
    "proof_of_concept_dict[common_keys[0]][0][:5]"
   ]
  },
  {
   "cell_type": "code",
   "execution_count": null,
   "id": "0cb2ba4c-746a-47cf-ae8a-531166166a7d",
   "metadata": {},
   "outputs": [],
   "source": []
  }
 ],
 "metadata": {
  "kernelspec": {
   "display_name": "Python 3 (ipykernel)",
   "language": "python",
   "name": "python3"
  },
  "language_info": {
   "codemirror_mode": {
    "name": "ipython",
    "version": 3
   },
   "file_extension": ".py",
   "mimetype": "text/x-python",
   "name": "python",
   "nbconvert_exporter": "python",
   "pygments_lexer": "ipython3",
   "version": "3.10.12"
  }
 },
 "nbformat": 4,
 "nbformat_minor": 5
}
